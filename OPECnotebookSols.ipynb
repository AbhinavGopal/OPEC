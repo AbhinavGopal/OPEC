{
  "nbformat": 4,
  "nbformat_minor": 0,
  "metadata": {
    "colab": {
      "name": "TutorialSolutions.ipynb",
      "provenance": [],
      "collapsed_sections": []
    },
    "kernelspec": {
      "name": "python3",
      "display_name": "Python 3"
    }
  },
  "cells": [
    {
      "cell_type": "markdown",
      "metadata": {
        "id": "18Z8S1CRSDne"
      },
      "source": [
        "# **Numpy Tutorial: EECS 16ML**\n",
        "In this assignment, you will gain a familiarity with one of the most popular packages used in Machine Learning. Numpy (https://numpy.org) is used as a fundamental package to perform matrix calculations, linear algebra calculations, and also for optimizing regular number calculations. Let's begin exploring the world of numpy from the absolute basics."
      ]
    },
    {
      "cell_type": "markdown",
      "metadata": {
        "id": "k8epTEoGjwJp"
      },
      "source": [
        "## Introduction"
      ]
    },
    {
      "cell_type": "markdown",
      "metadata": {
        "id": "KYcHJBGbSxo5"
      },
      "source": [
        "First, you have to import the NumPy library as follows. We import some other libraries to aid with visualization."
      ]
    },
    {
      "cell_type": "code",
      "metadata": {
        "id": "nty-d9Y-S-IA"
      },
      "source": [
        "import numpy as np\n",
        "import time\n",
        "%matplotlib inline\n",
        "import matplotlib.pyplot as plt\n",
        "import pandas as pd"
      ],
      "execution_count": 26,
      "outputs": []
    },
    {
      "cell_type": "markdown",
      "metadata": {
        "id": "5UM6bRSSjqXp"
      },
      "source": [
        "### **Creating Numpy Arrays**"
      ]
    },
    {
      "cell_type": "markdown",
      "metadata": {
        "id": "k5Ke3ISLiz_a"
      },
      "source": [
        "The most basic object you can create in NumPy is a 1-dimensional NumPy array. We have created a normal Python list and compared their datatypes for you to see."
      ]
    },
    {
      "cell_type": "code",
      "metadata": {
        "colab": {
          "base_uri": "https://localhost:8080/"
        },
        "id": "GZWerC2gi27Q",
        "outputId": "54a46bdc-35e6-4a97-fb0f-d932cb4e4cf2"
      },
      "source": [
        "lst = [3,6,9,10]\n",
        "arr = np.array([3,6,9,10])\n",
        "type(lst), type(arr)"
      ],
      "execution_count": 27,
      "outputs": [
        {
          "output_type": "execute_result",
          "data": {
            "text/plain": [
              "(list, numpy.ndarray)"
            ]
          },
          "metadata": {
            "tags": []
          },
          "execution_count": 27
        }
      ]
    },
    {
      "cell_type": "markdown",
      "metadata": {
        "id": "79aetEjAi8cs"
      },
      "source": [
        "We can create a matrix with Numpy by adding in multiple sub-arrays of equal length to the np.array argument. The number of sub-arrays and length of each  sub-array added will be the number of rows and number of columns, respectively, in the matrix.\n",
        "\n",
        "We also check its shape to make sure it is a 2x2 array."
      ]
    },
    {
      "cell_type": "code",
      "metadata": {
        "colab": {
          "base_uri": "https://localhost:8080/"
        },
        "id": "BsfooEPTjBZh",
        "outputId": "e99063f8-37c1-4114-93a0-f1cd7b9f38ae"
      },
      "source": [
        "arr_2D = np.array([[3,6],\n",
        "         [9,10]])\n",
        "arr_2D, arr_2D.shape"
      ],
      "execution_count": 28,
      "outputs": [
        {
          "output_type": "execute_result",
          "data": {
            "text/plain": [
              "(array([[ 3,  6],\n",
              "        [ 9, 10]]), (2, 2))"
            ]
          },
          "metadata": {
            "tags": []
          },
          "execution_count": 28
        }
      ]
    },
    {
      "cell_type": "markdown",
      "metadata": {
        "id": "jm1Kfs-0jFW4"
      },
      "source": [
        "We can convert a 1-dimensional NumPy array to a 2x2 matrix as follows. The arguments of reshape are (num_rows, num_columns). Obviously, num_rows * num_columns must equal to the length of the original array."
      ]
    },
    {
      "cell_type": "code",
      "metadata": {
        "colab": {
          "base_uri": "https://localhost:8080/"
        },
        "id": "oCP1RTfIjHo4",
        "outputId": "af5e6c34-635f-4a65-a42a-173b136a98b8"
      },
      "source": [
        "arr_mat = arr.reshape(2,2)\n",
        "arr_mat, arr_mat.shape"
      ],
      "execution_count": 29,
      "outputs": [
        {
          "output_type": "execute_result",
          "data": {
            "text/plain": [
              "(array([[ 3,  6],\n",
              "        [ 9, 10]]), (2, 2))"
            ]
          },
          "metadata": {
            "tags": []
          },
          "execution_count": 29
        }
      ]
    },
    {
      "cell_type": "markdown",
      "metadata": {
        "id": "1bzwMdstnYNY"
      },
      "source": [
        "We can also create a NumPy matrix directly without creating a 1-dimensional array and reshaping it.\n",
        "\n",
        "We also check its shape to make sure it is a 2x2, as it is above."
      ]
    },
    {
      "cell_type": "code",
      "metadata": {
        "colab": {
          "base_uri": "https://localhost:8080/"
        },
        "id": "29-N4K8fnY1v",
        "outputId": "d0815dfb-6b2c-4db7-8565-03a39da0c6b6"
      },
      "source": [
        "arr_2D = np.array([[3,6],\n",
        "         [9,10]])\n",
        "arr_2D.shape"
      ],
      "execution_count": 30,
      "outputs": [
        {
          "output_type": "execute_result",
          "data": {
            "text/plain": [
              "(2, 2)"
            ]
          },
          "metadata": {
            "tags": []
          },
          "execution_count": 30
        }
      ]
    },
    {
      "cell_type": "markdown",
      "metadata": {
        "id": "YqG539pGngXu"
      },
      "source": [
        "### **Appending NumPy Arrays**"
      ]
    },
    {
      "cell_type": "markdown",
      "metadata": {
        "id": "mzAr5MA1njAo"
      },
      "source": [
        "In many programming situations, you may have to append a value to a NumPy array. We will start with the simple example of appending an integer to the end of a 1-dimensional array."
      ]
    },
    {
      "cell_type": "code",
      "metadata": {
        "colab": {
          "base_uri": "https://localhost:8080/"
        },
        "id": "pS6vsQoNnnRO",
        "outputId": "8b4ef330-66b2-4b42-839e-f5cd7952f14a"
      },
      "source": [
        "arr = np.array([3,6,9,10])\n",
        "arr = np.append(arr, 1)\n",
        "arr"
      ],
      "execution_count": 31,
      "outputs": [
        {
          "output_type": "execute_result",
          "data": {
            "text/plain": [
              "array([ 3,  6,  9, 10,  1])"
            ]
          },
          "metadata": {
            "tags": []
          },
          "execution_count": 31
        }
      ]
    },
    {
      "cell_type": "markdown",
      "metadata": {
        "id": "FO671Y6anoP3"
      },
      "source": [
        "We can also append an array (instead of just one value) to an existing array as follows."
      ]
    },
    {
      "cell_type": "code",
      "metadata": {
        "colab": {
          "base_uri": "https://localhost:8080/"
        },
        "id": "nnSCOX_5nrjw",
        "outputId": "f53e0902-adfa-4822-97a7-faedc7414e0e"
      },
      "source": [
        "arr = np.append(arr, [8, 0, 11])\n",
        "arr"
      ],
      "execution_count": 32,
      "outputs": [
        {
          "output_type": "execute_result",
          "data": {
            "text/plain": [
              "array([ 3,  6,  9, 10,  1,  8,  0, 11])"
            ]
          },
          "metadata": {
            "tags": []
          },
          "execution_count": 32
        }
      ]
    },
    {
      "cell_type": "markdown",
      "metadata": {
        "id": "5z4acF-nnuLw"
      },
      "source": [
        "In linear algebra problems, you may need to append an array to a matrix (often iteratively). We will explore this later when discussing polynomial featurization. Here is one way of doing a simple append with np.append. You must specify the axis argument (axis = 0 in this case) since it shows whether you are adding the appended array row-wise or column-wise."
      ]
    },
    {
      "cell_type": "code",
      "metadata": {
        "colab": {
          "base_uri": "https://localhost:8080/"
        },
        "id": "FsAgSBkAnwXv",
        "outputId": "032500be-72cb-4a02-ef7e-049f5d44f245"
      },
      "source": [
        "# making the 1x8 array from the previous example a 2x4 matrix\n",
        "arr_2D = arr.reshape(2,4)\n",
        "# appending a NumPy array (row) of length 4 to the bottom of the current 2x4 matrix\n",
        "# specifying axis = 0 to add row-wise\n",
        "arr_2D = np.append(arr_2D, [[3,4,10,500]], axis = 0)\n",
        "arr_2D"
      ],
      "execution_count": 33,
      "outputs": [
        {
          "output_type": "execute_result",
          "data": {
            "text/plain": [
              "array([[  3,   6,   9,  10],\n",
              "       [  1,   8,   0,  11],\n",
              "       [  3,   4,  10, 500]])"
            ]
          },
          "metadata": {
            "tags": []
          },
          "execution_count": 33
        }
      ]
    },
    {
      "cell_type": "markdown",
      "metadata": {
        "id": "iSDPYaW1nyw3"
      },
      "source": [
        "Appending rows or columns to matrices can also be done through the np.hstack and np.vstack functions, which stack arrays column-wise and row-wise respectively.\n",
        "\n",
        "For example, in order to create a 1-dimensional array that consists of two different sub-arrays, we can use the np.hstack function (horizontally stacking the sub-arrays)."
      ]
    },
    {
      "cell_type": "markdown",
      "metadata": {
        "id": "eF9xoucNoFdr"
      },
      "source": [
        "In order to confirm your understanding of modifying arrays and matrices with NumPy, please complete the following cells."
      ]
    },
    {
      "cell_type": "markdown",
      "metadata": {
        "id": "alH9W7T8oMgH"
      },
      "source": [
        "1) Create a 3x6 matrix with all integers from 1 to 18 in increasing order across the row."
      ]
    },
    {
      "cell_type": "code",
      "metadata": {
        "colab": {
          "base_uri": "https://localhost:8080/"
        },
        "id": "JnoWDIYLoOvH",
        "outputId": "ba4d3ca9-5600-4c1d-b916-0923d9fd0643"
      },
      "source": [
        "# SOLUTION\n",
        "x = range(1, 19)\n",
        "X = np.array(x).reshape(3,6)\n",
        "X"
      ],
      "execution_count": 34,
      "outputs": [
        {
          "output_type": "execute_result",
          "data": {
            "text/plain": [
              "array([[ 1,  2,  3,  4,  5,  6],\n",
              "       [ 7,  8,  9, 10, 11, 12],\n",
              "       [13, 14, 15, 16, 17, 18]])"
            ]
          },
          "metadata": {
            "tags": []
          },
          "execution_count": 34
        }
      ]
    },
    {
      "cell_type": "markdown",
      "metadata": {
        "id": "WC8cR5MmoaAR"
      },
      "source": [
        "2) Now, create a new matrix ($\\verb|arr2|$) that has the same entries as the matrix above but with two more columns (same number of rows). Therefore, it should be a $3$x$8$ matrix. You can choose the entries of the two new columns to be whatever you like."
      ]
    },
    {
      "cell_type": "code",
      "metadata": {
        "colab": {
          "base_uri": "https://localhost:8080/"
        },
        "id": "SDG8qvDCojSo",
        "outputId": "f0bd72b3-3269-4598-d3b9-7e14912ebd3d"
      },
      "source": [
        "# SOLUTION\n",
        "x1 = np.array([100, 200, 300]).reshape(3, 1)\n",
        "x2 = np.array([400, 500, 600]).reshape(3, 1)\n",
        "X = np.hstack((X, x1))\n",
        "X = np.hstack((X, x2))\n",
        "X"
      ],
      "execution_count": 35,
      "outputs": [
        {
          "output_type": "execute_result",
          "data": {
            "text/plain": [
              "array([[  1,   2,   3,   4,   5,   6, 100, 400],\n",
              "       [  7,   8,   9,  10,  11,  12, 200, 500],\n",
              "       [ 13,  14,  15,  16,  17,  18, 300, 600]])"
            ]
          },
          "metadata": {
            "tags": []
          },
          "execution_count": 35
        }
      ]
    },
    {
      "cell_type": "markdown",
      "metadata": {
        "id": "tR3i1_p4UEWG"
      },
      "source": [
        "Now that we understand the basics of NumPy arrays (1-dimensional and matrices) and the various methods for appending values, rows, or columns to an array or matrix, we can move into actually using these data structures for computation in linear algebra problems.\n",
        "\n",
        "Let's move to establishing an understanding of how to go from a state space to an array.\n",
        "\n",
        "# State Space Representation Using Numpy\n",
        "You are in a store, and you see customers besides you buying various fruits and vegetables. Due to Corona, you only have 5 minutes in the store. As a result, you want to know the prices of fruits and vegetables in the store by observing the orders of other individuals. Luckily, you have your computer with you, and can input the orders and prices of the orders that you see from other people. This way, you can use numpy, along with linear algebra techniques that you know, to solve for the price of the individual items. \n",
        "\n",
        "Here are the orders you see:\n",
        "*   Alice: 2 oranges, 5 apples, 3 onions, 1 carrot, for $10.75\n",
        "\n",
        "*   John: 4 oranges, 3 apples, 2 onions, 2 carrot, for $11.00 \n",
        "\n",
        "*   Henry: 1 orange, 1 apple, 1 onion, 1 carrot, for $4.25\n",
        "\n",
        "*   Peter: 6 oranges, 1 apple, 10 onions, 100 carrots, for $214.00\n",
        "\n",
        "\n"
      ]
    },
    {
      "cell_type": "code",
      "metadata": {
        "id": "j_uKe3cEVrYl",
        "colab": {
          "base_uri": "https://localhost:8080/"
        },
        "outputId": "664b0c0d-7e84-4020-bbe5-ee7912cc4a01"
      },
      "source": [
        "# create a matrix using np.array()\n",
        "# Use inverses to solve for the value of each item\n",
        "\n",
        "# YOUR CODE HERE\n",
        "\n",
        "orders = np.array([[2,5,3,1], [4,3,2,2],[1,1,1,1],[6,1,10,100]])\n",
        "order_costs = np.array([10.75, 11, 4.25, 214])\n",
        "item_costs = np.linalg.inv(orders) @ order_costs\n",
        "print(orders@item_costs)\n",
        "\n",
        "\n",
        "# END CODE"
      ],
      "execution_count": 36,
      "outputs": [
        {
          "output_type": "stream",
          "text": [
            "[ 10.75  11.     4.25 214.  ]\n"
          ],
          "name": "stdout"
        }
      ]
    },
    {
      "cell_type": "markdown",
      "metadata": {
        "id": "rzJuaJLHTB3w"
      },
      "source": [
        "Let's explore this a bit more in detail. Henry's order has now changed to the following: \n",
        "\n",
        "\n",
        "*   6 oranges, 8 apples, 5 onions, 3 carrots for $21.75\n",
        "\n",
        "Modify and solve the problem to reflect this.\n"
      ]
    },
    {
      "cell_type": "code",
      "metadata": {
        "id": "kcmcmTDNVV9O",
        "colab": {
          "base_uri": "https://localhost:8080/"
        },
        "outputId": "4b9d4f95-7851-47b3-d43d-b08cabe37fd5"
      },
      "source": [
        "# modify the orders matrix\n",
        "# modify the order_costs matrix\n",
        "# solve for the new item_costs\n",
        "\n",
        "#YOUR CODE HERE\n",
        "orders[2] = [6,8,5,3]\n",
        "order_costs[2] = 21.75\n",
        "item_costs = np.linalg.inv(orders) @ order_costs\n",
        "#END CODE\n",
        "\n",
        "print(item_costs)\n"
      ],
      "execution_count": 37,
      "outputs": [
        {
          "output_type": "stream",
          "text": [
            "[ 1.34375 -8.      16.       0.875  ]\n"
          ],
          "name": "stdout"
        }
      ]
    },
    {
      "cell_type": "markdown",
      "metadata": {
        "id": "azBKxgsmJN9q"
      },
      "source": [
        "What do you observe? What does this mean? Why did this not happen in the first case?\n",
        "\n",
        "HINT: Check the matrix inverse and determinant\n",
        "\n",
        "We observe that the estimations for item_costs don't quite make sense-- costs cannot possibly be negative. When we look into the inverse, we see completely obscure values. The issue here is that the inverse does not actually exist, but with floating point arithmetic, the small round errors are amplified and seem to create a valid inverse. This is an important issue to look for! Always check the determinant of a matrix if your output seems suspicious after an inverse."
      ]
    },
    {
      "cell_type": "markdown",
      "metadata": {
        "id": "ueIeWfOwJfVp"
      },
      "source": [
        "Shift Henry's order back to what it was initially. Now add Carl's order:\n",
        "\n",
        "\n",
        "*   Carl: 6 oranges, 8 apples, 5 onions, 3 carrots for $21.75\n",
        "\n",
        "Modify and solve the problem to reflect this\n",
        "\n"
      ]
    },
    {
      "cell_type": "code",
      "metadata": {
        "id": "WmKYnHl8JIGe",
        "colab": {
          "base_uri": "https://localhost:8080/",
          "height": 409
        },
        "outputId": "033e4e6c-965c-4bea-ff72-fb8db956c6d8"
      },
      "source": [
        "# modify the orders matrix\n",
        "# modify the order_costs matrix\n",
        "# solve for the new item_costs\n",
        "\n",
        "#YOUR CODE HERE\n",
        "\n",
        "orders[2] = [1,1,1,1]\n",
        "order_costs[2] = 4.25\n",
        "orders = np.vstack((orders, [6,8,5,3]))\n",
        "np.append(order_costs, 21.75)\n",
        "\n",
        "\n",
        "item_costs = np.linalg.inv(orders) @ order_costs\n",
        "#END CODE\n",
        "\n",
        "print(item_costs)"
      ],
      "execution_count": 38,
      "outputs": [
        {
          "output_type": "error",
          "ename": "LinAlgError",
          "evalue": "ignored",
          "traceback": [
            "\u001b[0;31m---------------------------------------------------------------------------\u001b[0m",
            "\u001b[0;31mLinAlgError\u001b[0m                               Traceback (most recent call last)",
            "\u001b[0;32m<ipython-input-38-c441085ba430>\u001b[0m in \u001b[0;36m<module>\u001b[0;34m()\u001b[0m\n\u001b[1;32m     11\u001b[0m \u001b[0;34m\u001b[0m\u001b[0m\n\u001b[1;32m     12\u001b[0m \u001b[0;34m\u001b[0m\u001b[0m\n\u001b[0;32m---> 13\u001b[0;31m \u001b[0mitem_costs\u001b[0m \u001b[0;34m=\u001b[0m \u001b[0mnp\u001b[0m\u001b[0;34m.\u001b[0m\u001b[0mlinalg\u001b[0m\u001b[0;34m.\u001b[0m\u001b[0minv\u001b[0m\u001b[0;34m(\u001b[0m\u001b[0morders\u001b[0m\u001b[0;34m)\u001b[0m \u001b[0;34m@\u001b[0m \u001b[0morder_costs\u001b[0m\u001b[0;34m\u001b[0m\u001b[0;34m\u001b[0m\u001b[0m\n\u001b[0m\u001b[1;32m     14\u001b[0m \u001b[0;31m#END CODE\u001b[0m\u001b[0;34m\u001b[0m\u001b[0;34m\u001b[0m\u001b[0;34m\u001b[0m\u001b[0m\n\u001b[1;32m     15\u001b[0m \u001b[0;34m\u001b[0m\u001b[0m\n",
            "\u001b[0;32m<__array_function__ internals>\u001b[0m in \u001b[0;36minv\u001b[0;34m(*args, **kwargs)\u001b[0m\n",
            "\u001b[0;32m/usr/local/lib/python3.6/dist-packages/numpy/linalg/linalg.py\u001b[0m in \u001b[0;36minv\u001b[0;34m(a)\u001b[0m\n\u001b[1;32m    540\u001b[0m     \u001b[0ma\u001b[0m\u001b[0;34m,\u001b[0m \u001b[0mwrap\u001b[0m \u001b[0;34m=\u001b[0m \u001b[0m_makearray\u001b[0m\u001b[0;34m(\u001b[0m\u001b[0ma\u001b[0m\u001b[0;34m)\u001b[0m\u001b[0;34m\u001b[0m\u001b[0;34m\u001b[0m\u001b[0m\n\u001b[1;32m    541\u001b[0m     \u001b[0m_assert_stacked_2d\u001b[0m\u001b[0;34m(\u001b[0m\u001b[0ma\u001b[0m\u001b[0;34m)\u001b[0m\u001b[0;34m\u001b[0m\u001b[0;34m\u001b[0m\u001b[0m\n\u001b[0;32m--> 542\u001b[0;31m     \u001b[0m_assert_stacked_square\u001b[0m\u001b[0;34m(\u001b[0m\u001b[0ma\u001b[0m\u001b[0;34m)\u001b[0m\u001b[0;34m\u001b[0m\u001b[0;34m\u001b[0m\u001b[0m\n\u001b[0m\u001b[1;32m    543\u001b[0m     \u001b[0mt\u001b[0m\u001b[0;34m,\u001b[0m \u001b[0mresult_t\u001b[0m \u001b[0;34m=\u001b[0m \u001b[0m_commonType\u001b[0m\u001b[0;34m(\u001b[0m\u001b[0ma\u001b[0m\u001b[0;34m)\u001b[0m\u001b[0;34m\u001b[0m\u001b[0;34m\u001b[0m\u001b[0m\n\u001b[1;32m    544\u001b[0m \u001b[0;34m\u001b[0m\u001b[0m\n",
            "\u001b[0;32m/usr/local/lib/python3.6/dist-packages/numpy/linalg/linalg.py\u001b[0m in \u001b[0;36m_assert_stacked_square\u001b[0;34m(*arrays)\u001b[0m\n\u001b[1;32m    211\u001b[0m         \u001b[0mm\u001b[0m\u001b[0;34m,\u001b[0m \u001b[0mn\u001b[0m \u001b[0;34m=\u001b[0m \u001b[0ma\u001b[0m\u001b[0;34m.\u001b[0m\u001b[0mshape\u001b[0m\u001b[0;34m[\u001b[0m\u001b[0;34m-\u001b[0m\u001b[0;36m2\u001b[0m\u001b[0;34m:\u001b[0m\u001b[0;34m]\u001b[0m\u001b[0;34m\u001b[0m\u001b[0;34m\u001b[0m\u001b[0m\n\u001b[1;32m    212\u001b[0m         \u001b[0;32mif\u001b[0m \u001b[0mm\u001b[0m \u001b[0;34m!=\u001b[0m \u001b[0mn\u001b[0m\u001b[0;34m:\u001b[0m\u001b[0;34m\u001b[0m\u001b[0;34m\u001b[0m\u001b[0m\n\u001b[0;32m--> 213\u001b[0;31m             \u001b[0;32mraise\u001b[0m \u001b[0mLinAlgError\u001b[0m\u001b[0;34m(\u001b[0m\u001b[0;34m'Last 2 dimensions of the array must be square'\u001b[0m\u001b[0;34m)\u001b[0m\u001b[0;34m\u001b[0m\u001b[0;34m\u001b[0m\u001b[0m\n\u001b[0m\u001b[1;32m    214\u001b[0m \u001b[0;34m\u001b[0m\u001b[0m\n\u001b[1;32m    215\u001b[0m \u001b[0;32mdef\u001b[0m \u001b[0m_assert_finite\u001b[0m\u001b[0;34m(\u001b[0m\u001b[0;34m*\u001b[0m\u001b[0marrays\u001b[0m\u001b[0;34m)\u001b[0m\u001b[0;34m:\u001b[0m\u001b[0;34m\u001b[0m\u001b[0;34m\u001b[0m\u001b[0m\n",
            "\u001b[0;31mLinAlgError\u001b[0m: Last 2 dimensions of the array must be square"
          ]
        }
      ]
    },
    {
      "cell_type": "markdown",
      "metadata": {
        "id": "SE-m3O56PGU_"
      },
      "source": [
        "What did you notice? Did you find a solution?\n",
        "We notice that we do not find a solution to our problem because NumPy attempts to find the inverse of the matrix, which is non-square. Since this is impossible, we cannot find a solution"
      ]
    },
    {
      "cell_type": "markdown",
      "metadata": {
        "id": "NZN-i3fBL6gg"
      },
      "source": [
        "# **Benefits of Using Numpy**\n",
        "So far, we have discussed the use of numpy to solve various linear algebra problems, to do matrix multiplication, and more. But what makes NumPy so special? After all, we can write the code necessary for matrix operations ourselves using loops and basic arithmetic.\n",
        "\n",
        "In fact, let's compare the use of NumPy versus writing our own code in the context of matrix multiplication.\n"
      ]
    },
    {
      "cell_type": "markdown",
      "metadata": {
        "id": "Ck0LKc-LMynT"
      },
      "source": [
        "First, write prod(x,y), the product of two arrays, using coding techniques that you have learned from classes. "
      ]
    },
    {
      "cell_type": "code",
      "metadata": {
        "id": "_vT7Myb7Mx0B"
      },
      "source": [
        "def prod(x,y):\n",
        "  '''Returns the product of x and y, two 2D arrays\n",
        "     If the product cannot be returned for some reason,\n",
        "     return None'''\n",
        "  x = np.array(x)\n",
        "  y = np.array(y)\n",
        "  solution = np.zeros((x.shape[0],y.shape[1])) \n",
        "  if x.shape[1] != y.shape[0]:\n",
        "    return None\n",
        "  for i in range(x.shape[0]):\n",
        "   # iterate through columns of Y\n",
        "    for j in range(y.shape[1]):\n",
        "       # iterate through rows of Y\n",
        "       for k in range(y.shape[0]):\n",
        "           solution[i][j] += x[i][k] * y[k][j]\n",
        "  return solution\n"
      ],
      "execution_count": 39,
      "outputs": []
    },
    {
      "cell_type": "markdown",
      "metadata": {
        "id": "TmHRM86rNPlP"
      },
      "source": [
        "Now, write NumpyProd(x,y), the product of two arrays using NumPy. Instead of relying on NumPy to return errors when the product is not possible, account for errors and return None to maintain uniformity with prod."
      ]
    },
    {
      "cell_type": "code",
      "metadata": {
        "id": "3b4ZxAgvNgLd"
      },
      "source": [
        "def NumpyProd(x,y):\n",
        "  '''Returns the product of x and y, two 2D arrays using NumPy\n",
        "     If the product cannot be returned for some reason,\n",
        "     return None'''\n",
        "  return np.multiply(x,y)"
      ],
      "execution_count": 40,
      "outputs": []
    },
    {
      "cell_type": "code",
      "metadata": {
        "id": "QurUWm2rNnIb"
      },
      "source": [
        "# generate matrices to test runtimes\n",
        "small_matrix1 = np.random.rand(10, 10)\n",
        "small_matrix2 = np.random.rand(10, 10)\n",
        "med_matrix1 = np.random.rand(100,100)\n",
        "med_matrix2 = np.random.rand(100,100)\n",
        "large_matrix1 = np.random.rand(10000, 10000)\n",
        "small_matrix1 = small_matrix1.tolist()\n",
        "med_matrix1 = med_matrix1.tolist()\n",
        "small_matrix2 = small_matrix2.tolist()\n",
        "med_matrix2 = med_matrix2.tolist()"
      ],
      "execution_count": 41,
      "outputs": []
    },
    {
      "cell_type": "code",
      "metadata": {
        "colab": {
          "base_uri": "https://localhost:8080/"
        },
        "id": "1XHdu0yaOQIG",
        "outputId": "316a7a94-3bad-4b6f-89b8-b65c1ec3fe15"
      },
      "source": [
        "t0 = time.clock()\n",
        "p1 = prod(small_matrix1, small_matrix2)\n",
        "print(time.time()-t0)\n",
        "t0 = time.time()\n",
        "p1alt = NumpyProd(small_matrix1, small_matrix2)\n",
        "print(time.time()-t0)\n",
        "assert(p1.all() == p1alt.all())"
      ],
      "execution_count": 42,
      "outputs": [
        {
          "output_type": "stream",
          "text": [
            "1606885256.7962687\n",
            "0.00013709068298339844\n"
          ],
          "name": "stdout"
        }
      ]
    },
    {
      "cell_type": "code",
      "metadata": {
        "id": "_ng4SEiOOqp-",
        "colab": {
          "base_uri": "https://localhost:8080/"
        },
        "outputId": "9c21f2ca-48d5-449e-b8c6-84c7e4ddc774"
      },
      "source": [
        "t0 = time.clock()\n",
        "p2 = prod(med_matrix1, med_matrix2)\n",
        "print(time.time()-t0)\n",
        "t0 = time.time()\n",
        "p2alt = NumpyProd(med_matrix1, med_matrix2)\n",
        "print(time.time()-t0)\n",
        "assert(p2.all() == p2alt.all())"
      ],
      "execution_count": 43,
      "outputs": [
        {
          "output_type": "stream",
          "text": [
            "1606885258.4532192\n",
            "0.0012640953063964844\n"
          ],
          "name": "stdout"
        }
      ]
    },
    {
      "cell_type": "markdown",
      "metadata": {
        "id": "zlarRpZVvUmg"
      },
      "source": [
        "# Use of np.einsum"
      ]
    },
    {
      "cell_type": "markdown",
      "metadata": {
        "id": "eD7kpRr8vZoR"
      },
      "source": [
        "1) Calculate the matrix product $AB$ with $\\verb|np.einsum|$, as defined below."
      ]
    },
    {
      "cell_type": "code",
      "metadata": {
        "colab": {
          "base_uri": "https://localhost:8080/"
        },
        "id": "H4Gztvk3vYk2",
        "outputId": "e39bcf19-44bb-4359-f377-b08e591a309d"
      },
      "source": [
        "# SOLUTION\n",
        "A = np.arange(1, 22).reshape(7,3)\n",
        "B = np.arange(1, 19).reshape(3,6)\n",
        "np.einsum('ij, jk -> ik', A, B)"
      ],
      "execution_count": 46,
      "outputs": [
        {
          "output_type": "execute_result",
          "data": {
            "text/plain": [
              "array([[ 54,  60,  66,  72,  78,  84],\n",
              "       [117, 132, 147, 162, 177, 192],\n",
              "       [180, 204, 228, 252, 276, 300],\n",
              "       [243, 276, 309, 342, 375, 408],\n",
              "       [306, 348, 390, 432, 474, 516],\n",
              "       [369, 420, 471, 522, 573, 624],\n",
              "       [432, 492, 552, 612, 672, 732]])"
            ]
          },
          "metadata": {
            "tags": []
          },
          "execution_count": 46
        }
      ]
    },
    {
      "cell_type": "markdown",
      "metadata": {
        "id": "tzZPid1WvvAL"
      },
      "source": [
        "# Eigenvectors and Eigenvalues\n",
        "\n",
        "Recall from EECS16A that an eigenvector x of a matrix A is defined as a vector for which Ax = λx. λ is known as an eigenvalue of A. \n",
        "\n",
        "Why is this so significant? Well, for one, we might seek to understand what happens when we multiply A^n *x. \n",
        "\n",
        "When we know x is an eigenvector of A, we can find A^nx by computing λ^n*x. \n",
        "\n",
        "Let's explore this concept a little bit using our friend, NumPy."
      ]
    },
    {
      "cell_type": "code",
      "metadata": {
        "id": "4I7Hy_-Cw6Ja",
        "colab": {
          "base_uri": "https://localhost:8080/"
        },
        "outputId": "e498f326-384c-4515-b8aa-abc03177967d"
      },
      "source": [
        "# This is the matrix A that you will be using in order to find A^nx. \n",
        "A = np.array([[2,5], [4,1]])\n",
        "print(A)"
      ],
      "execution_count": 47,
      "outputs": [
        {
          "output_type": "stream",
          "text": [
            "[[2 5]\n",
            " [4 1]]\n"
          ],
          "name": "stdout"
        }
      ]
    },
    {
      "cell_type": "markdown",
      "metadata": {
        "id": "806L1blxxLoR"
      },
      "source": [
        "To find the eigenvalues and eigenvectors of A, We can use np.linalg.eig(A). This will return an array of eigenvalues, and a corresponding array of eigenvectors. Remember, the eigenvectors are arranged by **column**."
      ]
    },
    {
      "cell_type": "code",
      "metadata": {
        "id": "WlFP6rFSxJnv"
      },
      "source": [
        "eigenvalues = None\n",
        "eigenvectors = None\n",
        "\n",
        "### YOUR CODE HERE\n",
        "\n",
        "eigenvalues = np.linalg.eig(A)[0]\n",
        "eigenvectors = np.linalg.eig(A)[1].T\n",
        "### END CODE"
      ],
      "execution_count": 48,
      "outputs": []
    },
    {
      "cell_type": "markdown",
      "metadata": {
        "id": "HxKwMiImiKtT"
      },
      "source": [
        "Now, let's imagine that we want to compute A^n*x1, where x1 is our first eigenvector. How would we compute this?"
      ]
    },
    {
      "cell_type": "code",
      "metadata": {
        "id": "jyemOL8TiUUR"
      },
      "source": [
        "n = 10\n",
        "\n",
        "### YOUR CODE HERE\n",
        "x1 = eigenvectors[0] # first eigenvector\n",
        "# compute the nth power of x1.\n",
        "x1n = eigenvalues[0]**(n) * x1 # A^n(x1)\n",
        "# END CODE\n",
        "\n"
      ],
      "execution_count": 49,
      "outputs": []
    },
    {
      "cell_type": "code",
      "metadata": {
        "colab": {
          "base_uri": "https://localhost:8080/"
        },
        "id": "wPRI6mB3if9z",
        "outputId": "70b61b28-511d-478c-ef01-5be1110db951"
      },
      "source": [
        "# Compare this to simple matrix multiplication. Do the same operation without the use of the eigenvalue.\n",
        "np.linalg.matrix_power(A, n)@x1"
      ],
      "execution_count": 50,
      "outputs": [
        {
          "output_type": "execute_result",
          "data": {
            "text/plain": [
              "array([47216150.86469273, 37772920.69175418])"
            ]
          },
          "metadata": {
            "tags": []
          },
          "execution_count": 50
        }
      ]
    },
    {
      "cell_type": "markdown",
      "metadata": {
        "id": "-Sw8_E3Gl9q3"
      },
      "source": [
        "# Diagonalization\n",
        "Recall from EECS16A that the existence of eigenvalues and eigenvectors in a matrix allows it to be diagonalized in the form VΛ(V^-1). Let's use NumPy to do this, as diagonalization is a very useful technique used in a variety of applications.\n",
        "\n",
        "In order to do this, leverage the skills you have learned about. First find the eigenvalues and eigenvectors, then find the diagonal Λ matrix, and stack eigenvectors to obtain the V matrix."
      ]
    },
    {
      "cell_type": "code",
      "metadata": {
        "id": "vNx-xMR8i_LX"
      },
      "source": [
        "def diagonalize(A):\n",
        "  '''Return diagonal and V matrix'''\n",
        "  eigenvalues = np.linalg.eig(A)[0]\n",
        "  eigenvectors = np.linalg.eig(A)[1].T\n",
        "  return np.diag(eigenvalues), eigenvectors\n"
      ],
      "execution_count": 51,
      "outputs": []
    },
    {
      "cell_type": "markdown",
      "metadata": {
        "id": "7RbBOCfGm-Ih"
      },
      "source": [
        "Good Job! By now, you should have a good idea with how to find eigenvalues and use diagonalization quickly using NumPy."
      ]
    },
    {
      "cell_type": "markdown",
      "metadata": {
        "id": "ZOm6HZBnB4M5"
      },
      "source": [
        "# Least Squares\n",
        "\n",
        "In EECS16A, you should be able to recall the concept of least squares. Provided some data in an X matrix, and some y values associated with this data, the goal is to be able to predict a y value given the associated data.\n",
        "\n",
        "\n",
        "To be clear, our goal is to find a vector w such that Xw = y.\n",
        "\n",
        "It might seem obvious upon initial glance-- just multiply X^-1 on both sides to generate the w vector. However, what if X is not invertible? What if X has many more rows than columns? What if there is not a perfect solution w? Enter least squares. \n",
        "\n",
        "Least squares seeks to resolve the situation where there is no solution that may be simply achieved through matrix inverses. Let's look at this problem from the perspective of linear algebra. \n",
        "\n",
        "\n",
        "The problem of trying to find a w such that Xw = y is the same as trying to find the linear combination of X's column space that creates the vector y. In the event that y is not in the column space of X, however, we need to find the **best possible** value for w. The notion of the best possible value is given by the L-2 norm distance. In EECS16A, you found that this is the same as w = (A^T*A)^-1 * A^T * y"
      ]
    },
    {
      "cell_type": "markdown",
      "metadata": {
        "id": "Z6OwNUpNGmX2"
      },
      "source": [
        "## Least Squares using NumPy\n",
        "\n",
        "Let's go back to our example of buying fruits in the supermarket. Given the following data, try to create a prediction for the price of the vegetables and fruits:\n",
        "\n",
        "*   Alice: 2 oranges, 5 apples, 3 onions, 1 carrot, for $10.75\n",
        "\n",
        "*   John: 4 oranges, 3 apples, 2 onions, 2 carrot, for $11.00 \n",
        "\n",
        "*   Henry: 1 orange, 1 apple, 1 onion, 1 carrot, for $4.25\n",
        "\n",
        "*   Peter: 6 oranges, 1 apple, 10 onions, 100 carrots, for $214.00\n",
        "\n",
        "*   Jose   6 oranges, 8 apples, 5 onions, 3 carrots for $20.75\n",
        "\n"
      ]
    },
    {
      "cell_type": "code",
      "metadata": {
        "id": "fAGQonaSEjqX"
      },
      "source": [
        "### YOUR CODE HERE\n",
        "X = np.array([[2,5,3,1], [4,3,2,2],[1,1,1,1],[6,1,10,100], [6,8,5,3]])\n",
        "y = np.array([10.75, 11, 4.25, 214, 20.75])\n",
        "w = np.linalg.inv(X.T@X)@X.T@y\n",
        "\n",
        "### END CODE"
      ],
      "execution_count": 52,
      "outputs": []
    },
    {
      "cell_type": "markdown",
      "metadata": {
        "id": "umDeN9xyHY33"
      },
      "source": [
        "Now that we have a solution w, let's find the ***error*** that we get from the y data. Error will be represented by the squared error of the L2 distance between your predicted y and the actual y."
      ]
    },
    {
      "cell_type": "code",
      "metadata": {
        "id": "wPyywmqyHMAr",
        "colab": {
          "base_uri": "https://localhost:8080/"
        },
        "outputId": "c754c450-b127-4613-b1a7-e8080ad71825"
      },
      "source": [
        "def calculateError(pred_y, y):\n",
        "  ### YOUR CODE HERE\n",
        "  return np.mean(np.square(pred_y - y))\n",
        "  # calculates the mean squared error between your prediction and the actual y\n",
        "\n",
        "pred_y = X@w\n",
        "\n",
        "print(calculateError(pred_y, y))\n",
        "### END CODE\n",
        "\n"
      ],
      "execution_count": 53,
      "outputs": [
        {
          "output_type": "stream",
          "text": [
            "0.0666666666666669\n"
          ],
          "name": "stdout"
        }
      ]
    },
    {
      "cell_type": "markdown",
      "metadata": {
        "id": "H6otpBy7H_LK"
      },
      "source": [
        "It turns out that Numpy has a function that computes the least squares solution for you. The function is np.linalg.lstsq() which takes in the X-data and y as it's parameters. Try to use this function, and calculate the error that results.\n",
        "\n",
        "NOTE: the first returned argument is the weight/coefficient vector."
      ]
    },
    {
      "cell_type": "code",
      "metadata": {
        "id": "sow7iAKNH95-",
        "colab": {
          "base_uri": "https://localhost:8080/"
        },
        "outputId": "e39a7a9a-7bcb-400c-f146-bd807eccc0a5"
      },
      "source": [
        "### YOUR CODE HERE\n",
        "w = np.linalg.lstsq(X,y)[0]\n",
        "pred_y_np = X@w\n",
        "\n",
        "print(calculateError(pred_y_np, y))\n",
        "\n",
        "### END CODE\n"
      ],
      "execution_count": 54,
      "outputs": [
        {
          "output_type": "stream",
          "text": [
            "0.06666666666666643\n"
          ],
          "name": "stdout"
        },
        {
          "output_type": "stream",
          "text": [
            "/usr/local/lib/python3.6/dist-packages/ipykernel_launcher.py:2: FutureWarning: `rcond` parameter will change to the default of machine precision times ``max(M, N)`` where M and N are the input matrix dimensions.\n",
            "To use the future default and silence this warning we advise to pass `rcond=None`, to keep using the old, explicitly pass `rcond=-1`.\n",
            "  \n"
          ],
          "name": "stderr"
        }
      ]
    },
    {
      "cell_type": "markdown",
      "metadata": {
        "id": "KilRCY2Zplk_"
      },
      "source": [
        "## Polynomial Featurization"
      ]
    },
    {
      "cell_type": "markdown",
      "metadata": {
        "id": "e2MmhJJ_poAH"
      },
      "source": [
        "As you have seen before, one of the most common applications of computation with linear algebra tools is the least squares problem, which aims to minimize the squared norm of the distance between a linear projection of the features and the actual data points. The least squares problem is not limited to the 2-dimensional case in which we can visually see a **linear** relationship between x and y. Instead, if we believe the true model is non-linear, we create more \"linear\" features which are simply higher order polymomials of the current features. For example, if we have a list of $(x, y)$ coordinates, and our data looks roughly quadratic, we can create a new feature $x^2$, in addition to the existing **$1$** vector (intercept) and $x$ vector."
      ]
    },
    {
      "cell_type": "code",
      "metadata": {
        "id": "PIUTRj89poW5"
      },
      "source": [
        "# data generation\n",
        "x = np.linspace(-4.3, 4.3, 100)\n",
        "true_y = 4 + 0.2 * x + x**2 + 0.8 * x**3 + 0.2 * x**4\n",
        "noisy_y = true_y + np.random.normal(0, 10, 100)"
      ],
      "execution_count": 55,
      "outputs": []
    },
    {
      "cell_type": "markdown",
      "metadata": {
        "id": "Bp9qpq_GpuEO"
      },
      "source": [
        "In this case, running a simple linear regression of $y$ regressed on $x$ will not be of much help since the data is clearly non-linear. Therefore, we will hypothesize that the \"true\" data is generated from higher order polynomials, such as $x^2, x^3,$ and $x^4$.\n",
        "\n",
        "The data looks quadratic, so our first hypothesis is that our data points $y$ are generated from the following model: $$y = w_0 + w_1 x + w_2 x^2 + \\epsilon$$\n",
        "\n",
        "Now that we have a hypothesis model, we can formulate the least squares optimization problem:\n",
        "\n",
        "$$\\underset{w}{min} ||Xw - y||^2$$ where $X$ is the feature matrix with a **$1$**'s column, an **$x$** column, and an **$x^2$** column, and $w$ is the vector of coefficients $\\begin{bmatrix}\n",
        "w_0 \\\\\n",
        "w_1 \\\\\n",
        "w_2\n",
        "\\end{bmatrix}$.\n",
        "\n",
        "As you recalled above, the least squares solution to the least squares optimization is $\\hat{w_{LS}} = (X^T X)^{-1} X^T y$. We already have the values $y$, stored in $\\verb|noisy_y|$. We will use our newly acquired NumPy appending skills to create a feature matrix $X$ with the features described above.\n",
        "\n",
        "There are many ways to do this. We demonstrate just one way that can also be generalized to polynomials of degree $d$. \n",
        "\n",
        "Print the first three rows to verify that the entries are correct."
      ]
    },
    {
      "cell_type": "code",
      "metadata": {
        "id": "ObG1AgrUpuZ1"
      },
      "source": [
        "n = len(noisy_y)\n",
        "deg = 2\n",
        "X = np.empty([n, deg + 1])\n",
        "for d in range(deg + 1):\n",
        "  X_curr_deg = np.array(x ** d)\n",
        "  X[:, d] = X_curr_deg\n"
      ],
      "execution_count": 56,
      "outputs": []
    },
    {
      "cell_type": "code",
      "metadata": {
        "colab": {
          "base_uri": "https://localhost:8080/"
        },
        "id": "DFF56OuzpxeW",
        "outputId": "6eb707ea-d59c-49e2-f023-f93ad0c9b123"
      },
      "source": [
        "# SOLUTION\n",
        "print(X[:3, ])"
      ],
      "execution_count": 57,
      "outputs": [
        {
          "output_type": "stream",
          "text": [
            "[[ 1.         -4.3        18.49      ]\n",
            " [ 1.         -4.21313131 17.75047546]\n",
            " [ 1.         -4.12626263 17.02604326]]\n"
          ],
          "name": "stdout"
        }
      ]
    },
    {
      "cell_type": "markdown",
      "metadata": {
        "id": "eg_OEkgnp76g"
      },
      "source": [
        "Now we can compute $\\hat{w_{LS}}$ with the formula from above. Before doing this, write a function $\\verb|LstSq|$ that has arguments $X$ and $y$ and returns the least squares solution $\\hat{w_{LS}}$ from above."
      ]
    },
    {
      "cell_type": "code",
      "metadata": {
        "id": "jYYP5uXJp8S4"
      },
      "source": [
        "# SOLUTION\n",
        "def LstSq(X,y):\n",
        "  return np.linalg.inv(X.T @ X) @ X.T @ y"
      ],
      "execution_count": 58,
      "outputs": []
    },
    {
      "cell_type": "markdown",
      "metadata": {
        "id": "y_o0xkWdqCsX"
      },
      "source": [
        "After computing $\\hat{w_{LS}}$, we will compute the predicted $\\hat{y}$ values to see the quality of the fit when compared to noisy_y. Recall that we can compute the predictions with $\\hat{y} = X\\hat{w_{LS}}$."
      ]
    },
    {
      "cell_type": "code",
      "metadata": {
        "id": "693X3-DRqEjn"
      },
      "source": [
        "# SOLUTION\n",
        "w_LS = LstSq(X, noisy_y)\n",
        "y_hat = X @ w_LS"
      ],
      "execution_count": 59,
      "outputs": []
    },
    {
      "cell_type": "markdown",
      "metadata": {
        "id": "xqYS_PVXqcuo"
      },
      "source": [
        "Use the $\\verb|calculateError|$ function to compute the MSE of our predictions."
      ]
    },
    {
      "cell_type": "code",
      "metadata": {
        "id": "vB0G5EAjqdat",
        "colab": {
          "base_uri": "https://localhost:8080/"
        },
        "outputId": "9ae40a82-a76f-43a4-ec90-9f84aa75cd76"
      },
      "source": [
        "# SOLUTION\n",
        "calculateError(y_hat, noisy_y)"
      ],
      "execution_count": 60,
      "outputs": [
        {
          "output_type": "execute_result",
          "data": {
            "text/plain": [
              "196.67136714610362"
            ]
          },
          "metadata": {
            "tags": []
          },
          "execution_count": 60
        }
      ]
    },
    {
      "cell_type": "markdown",
      "metadata": {
        "id": "nN2Xl7-zqhZH"
      },
      "source": [
        "Our next step is to add some higher-dimensional features to see if they reveal something about our underlying true distribution. First, write a function $\\verb|featurize_d|$ that returns a NumPy matrix $X$ with all features from $x^0...x^d$ as separate columns for some degree $d$. The function's arguments should be the original data vector $x$ and our desired degree $d$.\n",
        "\n",
        "The caveat: you cannot copy the format from above. Instead, you must use NumPy (any functions within NumPy are okay)."
      ]
    },
    {
      "cell_type": "code",
      "metadata": {
        "id": "y5bqC7XlqhuB"
      },
      "source": [
        "# SOLUTION\n",
        "def featurize_d(x, d):\n",
        "  n = len(x)\n",
        "  X = np.empty([n, d + 1])\n",
        "  for de in range(d + 1):\n",
        "    X_curr_deg = np.array(x ** de)\n",
        "    X[:, de] = X_curr_deg\n",
        "  return X"
      ],
      "execution_count": 61,
      "outputs": []
    },
    {
      "cell_type": "markdown",
      "metadata": {
        "id": "FGqaF7b9qtVY"
      },
      "source": [
        "Now, add a column to $X$ with the entires $x^3$. Obtain the coefficients $w$, the predictions $\\hat{y}$, and the MSE. Print the coefficients and observe what has happened. Repeat the exercise with $x^4$ (keeping $x^3$). "
      ]
    },
    {
      "cell_type": "code",
      "metadata": {
        "id": "GZncHpEdqtqf",
        "colab": {
          "base_uri": "https://localhost:8080/"
        },
        "outputId": "24bea375-dad8-47d5-f483-83c48851c025"
      },
      "source": [
        "# SOLUTION\n",
        "X_deg3 = featurize_d(x, 3)\n",
        "w_deg3 = LstSq(X_deg3, noisy_y)\n",
        "y_pred_deg3 = X_deg3 @ w_deg3\n",
        "MSE_deg3 = calculateError(y_pred_deg3, noisy_y)\n",
        "print(w_deg3, MSE_deg3)"
      ],
      "execution_count": 62,
      "outputs": [
        {
          "output_type": "stream",
          "text": [
            "[-5.1199807   1.45373543  4.52845333  0.71932795] 117.3724692130383\n"
          ],
          "name": "stdout"
        }
      ]
    },
    {
      "cell_type": "code",
      "metadata": {
        "id": "LLLhOJ4xqwzX",
        "colab": {
          "base_uri": "https://localhost:8080/"
        },
        "outputId": "6897138e-beba-43de-a7fe-362d784d7a72"
      },
      "source": [
        "# SOLUTION\n",
        "X_deg4 = featurize_d(x, 4)\n",
        "w_deg4 = LstSq(X_deg4, noisy_y)\n",
        "y_pred_deg4 = X_deg4 @ w_deg4\n",
        "MSE_deg4 = calculateError(y_pred_deg4, noisy_y)\n",
        "print(w_deg4, MSE_deg4)"
      ],
      "execution_count": 63,
      "outputs": [
        {
          "output_type": "stream",
          "text": [
            "[-0.07391946  1.45373543  1.85216912  0.71932795  0.16557728] 97.27389356567332\n"
          ],
          "name": "stdout"
        }
      ]
    },
    {
      "cell_type": "markdown",
      "metadata": {
        "id": "UXLrHVlMq0RW"
      },
      "source": [
        "#### \"Tradeoff\" of Using Higher-Order Polynomials"
      ]
    },
    {
      "cell_type": "markdown",
      "metadata": {
        "id": "Pu-i2ijmq5Eg"
      },
      "source": [
        "You now understand the motivation to add more higher-dimensional polynomial features. However, adding too many features when the data is generated from a true lower-dimensional polynomial can signficantly increase the MSE.\n",
        "\n",
        "In the cell below, generate 100 equally spaced $x$ values between $-5$ and $5$ using $\\verb|np.linspace|$. Then generate a \"true\" output $y$ using the linear function $y = 3x + 2$. After obtaining $y$, create a variable $\\verb|y_noisy|$ where $y_{noisy} = y + \\epsilon$. We assume $\\epsilon \\sim N(\\mu = 0, \\sigma^2 = 2).$ In order to get $\\epsilon$, you can use the function $\\verb|np.random.normal|$.\n",
        "\n",
        "Visualize your generated data points with the provided code. Be sure to check that your variable names match up with the variable names we provide for visualization."
      ]
    },
    {
      "cell_type": "code",
      "metadata": {
        "colab": {
          "base_uri": "https://localhost:8080/",
          "height": 286
        },
        "id": "j8rb55ajq5aG",
        "outputId": "c0b679ec-f072-4add-f9b9-11f2b73afc52"
      },
      "source": [
        "# SOLUTION\n",
        "x = np.linspace(-5, 5, 100)\n",
        "y = 3 * x + 2\n",
        "y_noisy = y + np.random.normal(0, 2, 100)\n",
        "\n",
        "plt.plot(x, y_noisy, 'o')"
      ],
      "execution_count": 64,
      "outputs": [
        {
          "output_type": "execute_result",
          "data": {
            "text/plain": [
              "[<matplotlib.lines.Line2D at 0x7f7b997437f0>]"
            ]
          },
          "metadata": {
            "tags": []
          },
          "execution_count": 64
        },
        {
          "output_type": "display_data",
          "data": {
            "image/png": "[encoded data removed]",
            "text/plain": [
              "<Figure size 432x288 with 1 Axes>"
            ]
          },
          "metadata": {
            "tags": [],
            "needs_background": "light"
          }
        }
      ]
    },
    {
      "cell_type": "markdown",
      "metadata": {
        "id": "zyWwqapCrE3Z"
      },
      "source": [
        "Now, find the least squares coefficients asssuming our hypothesis is that $y = w_0 + w_1 x + \\epsilon$. Verify that the coefficients make sense given our current problem setup."
      ]
    },
    {
      "cell_type": "code",
      "metadata": {
        "colab": {
          "base_uri": "https://localhost:8080/"
        },
        "id": "gbQdIZ5urFS8",
        "outputId": "fb2e5585-e709-46aa-8097-ad10b6f4e426"
      },
      "source": [
        "# SOLUTION\n",
        "X_deg1 = featurize_d(x, 1)\n",
        "w_deg1 = LstSq(X_deg1, y_noisy)\n",
        "print(w_deg1)"
      ],
      "execution_count": 65,
      "outputs": [
        {
          "output_type": "stream",
          "text": [
            "[2.20155383 2.92939199]\n"
          ],
          "name": "stdout"
        }
      ]
    },
    {
      "cell_type": "markdown",
      "metadata": {
        "id": "AJqQ5sojrYCk"
      },
      "source": [
        "Your friend that has not studied statistics believes you should add some more polynomial features to try and decrease the MSE of the model.\n",
        "\n",
        "Create a feature matrix up to $x^2$ and find the least squares solution with the new features. What do you notice about the coefficient for $x^2$? What do you conclude to your friend? What do you think will happen if you add $x^4, x^5$, etc?"
      ]
    },
    {
      "cell_type": "code",
      "metadata": {
        "colab": {
          "base_uri": "https://localhost:8080/"
        },
        "id": "skLum2VLrZ4I",
        "outputId": "95a8c6bb-f34d-424b-fa2b-cca088e2ca10"
      },
      "source": [
        "# SOLUTION\n",
        "X_deg2 = featurize_d(x, 2)\n",
        "w_deg2 = LstSq(X_deg2, y_noisy)\n",
        "print(w_deg2)"
      ],
      "execution_count": 66,
      "outputs": [
        {
          "output_type": "stream",
          "text": [
            "[ 2.40699918  2.92939199 -0.02416526]\n"
          ],
          "name": "stdout"
        }
      ]
    },
    {
      "cell_type": "markdown",
      "metadata": {
        "id": "I9L9OMb2re0p"
      },
      "source": [
        "#### \"Linear\" Classification for a Conic Section"
      ]
    },
    {
      "cell_type": "markdown",
      "metadata": {
        "id": "tXvsHiTPrj3L"
      },
      "source": [
        "We have built some basic linear models for linear and quadratic data. Sometimes, instead of predicting the output $y$ directly, we may have binary \"labels\" attached to $y$ indicating whether a certain condition has been met or not. Run the cell below to see the data in tabular form."
      ]
    },
    {
      "cell_type": "code",
      "metadata": {
        "colab": {
          "base_uri": "https://localhost:8080/",
          "height": 419
        },
        "id": "X0hO2Xm8rkcg",
        "outputId": "dfa590d7-2a4d-480e-88ef-27da39f397d1"
      },
      "source": [
        "# generating 1's\n",
        "r = 2\n",
        "theta = np.random.uniform(0, 2*np.pi, 100)\n",
        "x_1 = r * np.cos(theta) + np.random.normal(0, 0.1, 100)\n",
        "y_1 = r * np.sin(theta) + np.random.normal(0, 0.1, 100)\n",
        "# generating 0's\n",
        "x_0 = np.append(np.linspace(-r-2, -r, 100), np.linspace(r, r+2, 100))\n",
        "y_0 = 0.1*x_0**2 + 1 + np.random.normal(0, 1.5, 200)\n",
        "# appending everything\n",
        "x_all = np.append(x_1, x_0)\n",
        "y_all = np.append(y_1, y_0)\n",
        "labels_all = np.append(np.ones(100), -1 * np.ones(200))\n",
        "dat = pd.DataFrame({'x':x_all, 'y':y_all, 'label': labels_all}).sample(frac = 1)\n",
        "dat.reset_index(drop=True, inplace=True)\n",
        "dat"
      ],
      "execution_count": 67,
      "outputs": [
        {
          "output_type": "execute_result",
          "data": {
            "text/html": [
              "<div>\n",
              "<style scoped>\n",
              "    .dataframe tbody tr th:only-of-type {\n",
              "        vertical-align: middle;\n",
              "    }\n",
              "\n",
              "    .dataframe tbody tr th {\n",
              "        vertical-align: top;\n",
              "    }\n",
              "\n",
              "    .dataframe thead th {\n",
              "        text-align: right;\n",
              "    }\n",
              "</style>\n",
              "<table border=\"1\" class=\"dataframe\">\n",
              "  <thead>\n",
              "    <tr style=\"text-align: right;\">\n",
              "      <th></th>\n",
              "      <th>x</th>\n",
              "      <th>y</th>\n",
              "      <th>label</th>\n",
              "    </tr>\n",
              "  </thead>\n",
              "  <tbody>\n",
              "    <tr>\n",
              "      <th>0</th>\n",
              "      <td>2.686869</td>\n",
              "      <td>2.876985</td>\n",
              "      <td>-1.0</td>\n",
              "    </tr>\n",
              "    <tr>\n",
              "      <th>1</th>\n",
              "      <td>2.767677</td>\n",
              "      <td>1.477013</td>\n",
              "      <td>-1.0</td>\n",
              "    </tr>\n",
              "    <tr>\n",
              "      <th>2</th>\n",
              "      <td>-2.050731</td>\n",
              "      <td>0.860444</td>\n",
              "      <td>1.0</td>\n",
              "    </tr>\n",
              "    <tr>\n",
              "      <th>3</th>\n",
              "      <td>0.290767</td>\n",
              "      <td>-1.967723</td>\n",
              "      <td>1.0</td>\n",
              "    </tr>\n",
              "    <tr>\n",
              "      <th>4</th>\n",
              "      <td>-2.565657</td>\n",
              "      <td>3.386404</td>\n",
              "      <td>-1.0</td>\n",
              "    </tr>\n",
              "    <tr>\n",
              "      <th>...</th>\n",
              "      <td>...</td>\n",
              "      <td>...</td>\n",
              "      <td>...</td>\n",
              "    </tr>\n",
              "    <tr>\n",
              "      <th>295</th>\n",
              "      <td>-3.515152</td>\n",
              "      <td>1.185910</td>\n",
              "      <td>-1.0</td>\n",
              "    </tr>\n",
              "    <tr>\n",
              "      <th>296</th>\n",
              "      <td>0.148069</td>\n",
              "      <td>-1.938880</td>\n",
              "      <td>1.0</td>\n",
              "    </tr>\n",
              "    <tr>\n",
              "      <th>297</th>\n",
              "      <td>3.070707</td>\n",
              "      <td>1.165852</td>\n",
              "      <td>-1.0</td>\n",
              "    </tr>\n",
              "    <tr>\n",
              "      <th>298</th>\n",
              "      <td>-1.806016</td>\n",
              "      <td>0.437432</td>\n",
              "      <td>1.0</td>\n",
              "    </tr>\n",
              "    <tr>\n",
              "      <th>299</th>\n",
              "      <td>-0.174740</td>\n",
              "      <td>-1.946700</td>\n",
              "      <td>1.0</td>\n",
              "    </tr>\n",
              "  </tbody>\n",
              "</table>\n",
              "<p>300 rows × 3 columns</p>\n",
              "</div>"
            ],
            "text/plain": [
              "            x         y  label\n",
              "0    2.686869  2.876985   -1.0\n",
              "1    2.767677  1.477013   -1.0\n",
              "2   -2.050731  0.860444    1.0\n",
              "3    0.290767 -1.967723    1.0\n",
              "4   -2.565657  3.386404   -1.0\n",
              "..        ...       ...    ...\n",
              "295 -3.515152  1.185910   -1.0\n",
              "296  0.148069 -1.938880    1.0\n",
              "297  3.070707  1.165852   -1.0\n",
              "298 -1.806016  0.437432    1.0\n",
              "299 -0.174740 -1.946700    1.0\n",
              "\n",
              "[300 rows x 3 columns]"
            ]
          },
          "metadata": {
            "tags": []
          },
          "execution_count": 67
        }
      ]
    },
    {
      "cell_type": "markdown",
      "metadata": {
        "id": "hdydh6Zers3R"
      },
      "source": [
        "Now, visualize the $(x,y)$ coordinates of the above dataset. $\\verb|x_0, y_0|$ are $x, y$ values for label -1 and $\\verb|x_1, y_1|$ are the $x,y$ values for label 1."
      ]
    },
    {
      "cell_type": "code",
      "metadata": {
        "colab": {
          "base_uri": "https://localhost:8080/",
          "height": 282
        },
        "id": "DwSzI79MrtKl",
        "outputId": "f87c7508-ddbc-4148-a708-831a1ea70a9d"
      },
      "source": [
        "plt.plot(x_0, y_0, 'o', color = 'red')\n",
        "plt.plot(x_1, y_1, 'o', color = 'blue')"
      ],
      "execution_count": 68,
      "outputs": [
        {
          "output_type": "execute_result",
          "data": {
            "text/plain": [
              "[<matplotlib.lines.Line2D at 0x7f7b997298d0>]"
            ]
          },
          "metadata": {
            "tags": []
          },
          "execution_count": 68
        },
        {
          "output_type": "display_data",
          "data": {
            "image/png": "[encoded data removed]",
            "text/plain": [
              "<Figure size 432x288 with 1 Axes>"
            ]
          },
          "metadata": {
            "tags": [],
            "needs_background": "light"
          }
        }
      ]
    },
    {
      "cell_type": "markdown",
      "metadata": {
        "id": "RRNTfHsQr8IY"
      },
      "source": [
        "What shape does the blue data (label 1) look like? Do you see a clear separation?\n",
        "\n",
        "Based on the shape of the data, construct a feature matrix that seems reasonable. What parameters will we be estimating? Hint: the equation of a circle in conic form is $ (x-h)^2 + (y-k)^2 = r^2$. We are attempting to predict the label, stored in $\\verb|dat['label']|$.\n"
      ]
    },
    {
      "cell_type": "code",
      "metadata": {
        "colab": {
          "base_uri": "https://localhost:8080/"
        },
        "id": "j8rc-lE7r8rg",
        "outputId": "7b85a700-09c0-4a97-e216-a600c5dded51"
      },
      "source": [
        "# SOLUTION\n",
        "# we want a column of 1's, x, y, x^2, y^2\n",
        "X = np.zeros((300, 5))\n",
        "ones = np.ones(300)\n",
        "x_sq = x_all ** 2\n",
        "y_sq = y_all ** 2\n",
        "X[:, 0] = ones\n",
        "X[:, 1] = x_all\n",
        "X[:, 2] = y_all\n",
        "X[:, 3] = x_sq\n",
        "X[:, 4] = y_sq\n",
        "X"
      ],
      "execution_count": 69,
      "outputs": [
        {
          "output_type": "execute_result",
          "data": {
            "text/plain": [
              "array([[ 1.00000000e+00, -1.91270408e+00,  9.11960980e-01,\n",
              "         3.65843688e+00,  8.31672828e-01],\n",
              "       [ 1.00000000e+00, -1.05346376e-01,  2.06810767e+00,\n",
              "         1.10978589e-02,  4.27706933e+00],\n",
              "       [ 1.00000000e+00, -1.57569522e+00, -1.03276038e+00,\n",
              "         2.48281542e+00,  1.06659400e+00],\n",
              "       ...,\n",
              "       [ 1.00000000e+00,  3.95959596e+00,  1.84273967e+00,\n",
              "         1.56784002e+01,  3.39568950e+00],\n",
              "       [ 1.00000000e+00,  3.97979798e+00,  2.55313542e+00,\n",
              "         1.58387920e+01,  6.51850048e+00],\n",
              "       [ 1.00000000e+00,  4.00000000e+00,  1.75831370e+00,\n",
              "         1.60000000e+01,  3.09166706e+00]])"
            ]
          },
          "metadata": {
            "tags": []
          },
          "execution_count": 69
        }
      ]
    },
    {
      "cell_type": "code",
      "metadata": {
        "id": "ZHiw66dq0-vw"
      },
      "source": [
        ""
      ],
      "execution_count": 69,
      "outputs": []
    }
  ]
}