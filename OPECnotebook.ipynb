{
  "nbformat": 4,
  "nbformat_minor": 0,
  "metadata": {
    "colab": {
      "name": "NumPyTutorial.ipynb",
      "provenance": [],
      "collapsed_sections": []
    },
    "kernelspec": {
      "name": "python3",
      "display_name": "Python 3"
    }
  },
  "cells": [
    {
      "cell_type": "markdown",
      "metadata": {
        "id": "18Z8S1CRSDne"
      },
      "source": [
        "# **Numpy Tutorial: EECS 16ML**\n",
        "In this assignment, you will gain a familiarity with one of the most popular packages used in Machine Learning. Numpy (https://numpy.org) is used as a fundamental package to perform matrix calculations, linear algebra calculations, and also for optimizing regular number calculations. Let's begin exploring the world of numpy from the absolute basics."
      ]
    },
    {
      "cell_type": "markdown",
      "metadata": {
        "id": "k8epTEoGjwJp"
      },
      "source": [
        "## Introduction"
      ]
    },
    {
      "cell_type": "markdown",
      "metadata": {
        "id": "KYcHJBGbSxo5"
      },
      "source": [
        "First, you have to import the NumPy library as follows. We import some other libraries to aid with visualization."
      ]
    },
    {
      "cell_type": "code",
      "metadata": {
        "id": "nty-d9Y-S-IA"
      },
      "source": [
        "import numpy as np\n",
        "%matplotlib inline\n",
        "import matplotlib.pyplot as plt\n",
        "import pandas as pd"
      ],
      "execution_count": null,
      "outputs": []
    },
    {
      "cell_type": "markdown",
      "metadata": {
        "id": "5UM6bRSSjqXp"
      },
      "source": [
        "### **Creating NumPy Arrays**"
      ]
    },
    {
      "cell_type": "markdown",
      "metadata": {
        "id": "k5Ke3ISLiz_a"
      },
      "source": [
        "The most basic object you can create in NumPy is a 1-dimensional NumPy array. We have created a normal Python list and compared their datatypes for you to see."
      ]
    },
    {
      "cell_type": "code",
      "metadata": {
        "colab": {
          "base_uri": "https://localhost:8080/"
        },
        "id": "GZWerC2gi27Q",
        "outputId": "56f42901-813f-4307-9827-6cd6c8394a8f"
      },
      "source": [
        "lst = [3,6,9,10]\n",
        "arr = np.array([3,6,9,10])\n",
        "type(lst), type(arr)"
      ],
      "execution_count": null,
      "outputs": [
        {
          "output_type": "execute_result",
          "data": {
            "text/plain": [
              "(list, numpy.ndarray)"
            ]
          },
          "metadata": {
            "tags": []
          },
          "execution_count": 25
        }
      ]
    },
    {
      "cell_type": "markdown",
      "metadata": {
        "id": "79aetEjAi8cs"
      },
      "source": [
        "We can create a matrix with Numpy by adding in multiple sub-arrays of equal length to the np.array argument. The number of sub-arrays and length of each  sub-array added will be the number of rows and number of columns, respectively, in the matrix.\n",
        "\n",
        "We also check its shape to make sure it is a 2x2 array."
      ]
    },
    {
      "cell_type": "code",
      "metadata": {
        "colab": {
          "base_uri": "https://localhost:8080/"
        },
        "id": "BsfooEPTjBZh",
        "outputId": "b6a89003-0cd3-43fb-934b-c442825923f7"
      },
      "source": [
        "arr_2D = np.array([[3,6],\n",
        "         [9,10]])\n",
        "arr_2D, arr_2D.shape"
      ],
      "execution_count": null,
      "outputs": [
        {
          "output_type": "execute_result",
          "data": {
            "text/plain": [
              "(array([[ 3,  6],\n",
              "        [ 9, 10]]), (2, 2))"
            ]
          },
          "metadata": {
            "tags": []
          },
          "execution_count": 3
        }
      ]
    },
    {
      "cell_type": "markdown",
      "metadata": {
        "id": "jm1Kfs-0jFW4"
      },
      "source": [
        "We can convert a 1-dimensional NumPy array to a 2x2 matrix as follows. The arguments of reshape are (num_rows, num_columns). Obviously, num_rows * num_columns must equal to the length of the original array."
      ]
    },
    {
      "cell_type": "code",
      "metadata": {
        "colab": {
          "base_uri": "https://localhost:8080/"
        },
        "id": "oCP1RTfIjHo4",
        "outputId": "89889b66-3c83-4099-f099-de0a35d3f78d"
      },
      "source": [
        "arr_mat = arr.reshape(2,2)\n",
        "arr_mat"
      ],
      "execution_count": null,
      "outputs": [
        {
          "output_type": "execute_result",
          "data": {
            "text/plain": [
              "array([[ 3,  6],\n",
              "       [ 9, 10]])"
            ]
          },
          "metadata": {
            "tags": []
          },
          "execution_count": 4
        }
      ]
    },
    {
      "cell_type": "markdown",
      "metadata": {
        "id": "D0pHRbxZrED8"
      },
      "source": [
        "We can also create a NumPy matrix directly without creating a 1-dimensional array and reshaping it.\n",
        "\n",
        "We also check its shape to make sure it is a 2x2, as it is above."
      ]
    },
    {
      "cell_type": "code",
      "metadata": {
        "colab": {
          "base_uri": "https://localhost:8080/"
        },
        "id": "RNEk0PDxrF4g",
        "outputId": "13a53f9a-b03e-404d-b7b6-004a0e78da93"
      },
      "source": [
        "arr_2D = np.array([[3,6],\n",
        "         [9,10]])\n",
        "arr_2D.shape"
      ],
      "execution_count": null,
      "outputs": [
        {
          "output_type": "execute_result",
          "data": {
            "text/plain": [
              "(2, 2)"
            ]
          },
          "metadata": {
            "tags": []
          },
          "execution_count": 5
        }
      ]
    },
    {
      "cell_type": "markdown",
      "metadata": {
        "id": "Is9vavGsrWxU"
      },
      "source": [
        "### **Appending NumPy Arrays**"
      ]
    },
    {
      "cell_type": "markdown",
      "metadata": {
        "id": "q6UzWCJhrScu"
      },
      "source": [
        "In many programming situations, you may have to append a value to a NumPy array. We will start with the simple example of appending an integer to the end of a 1-dimensional array."
      ]
    },
    {
      "cell_type": "code",
      "metadata": {
        "colab": {
          "base_uri": "https://localhost:8080/"
        },
        "id": "_AmPvduArTfM",
        "outputId": "0e45fe55-091d-43b3-b7a8-00d3ae7a776c"
      },
      "source": [
        "arr = np.array([3,6,9,10])\n",
        "arr = np.append(arr, 1)\n",
        "arr"
      ],
      "execution_count": null,
      "outputs": [
        {
          "output_type": "execute_result",
          "data": {
            "text/plain": [
              "array([ 3,  6,  9, 10,  1])"
            ]
          },
          "metadata": {
            "tags": []
          },
          "execution_count": 6
        }
      ]
    },
    {
      "cell_type": "markdown",
      "metadata": {
        "id": "TdNEaPpprljm"
      },
      "source": [
        "We can also append an array (instead of just one value) to an existing array as follows."
      ]
    },
    {
      "cell_type": "code",
      "metadata": {
        "colab": {
          "base_uri": "https://localhost:8080/"
        },
        "id": "lAznIq_Orohc",
        "outputId": "4f664c45-c736-425c-d5f8-e83cea291c36"
      },
      "source": [
        "arr = np.append(arr, [8, 0, 11])\n",
        "arr"
      ],
      "execution_count": null,
      "outputs": [
        {
          "output_type": "execute_result",
          "data": {
            "text/plain": [
              "array([ 3,  6,  9, 10,  1,  8,  0, 11])"
            ]
          },
          "metadata": {
            "tags": []
          },
          "execution_count": 7
        }
      ]
    },
    {
      "cell_type": "markdown",
      "metadata": {
        "id": "4RjsdKUHry50"
      },
      "source": [
        "In linear algebra problems, you may need to append an array to a matrix (often iteratively). We will explore this later when discussing polynomial featurization. Here is one way of doing a simple append with np.append. You must specify the axis argument (axis = 0 in this case) since it shows whether you are adding the appended array row-wise or column-wise."
      ]
    },
    {
      "cell_type": "code",
      "metadata": {
        "colab": {
          "base_uri": "https://localhost:8080/"
        },
        "id": "WM1uHkwwr1d2",
        "outputId": "413c852e-8195-4e11-bf1a-496333e95969"
      },
      "source": [
        "# making the 1x8 array from the previous example a 2x4 matrix\n",
        "arr_2D = arr.reshape(2,4)\n",
        "# appending a NumPy array (row) of length 4 to the bottom of the current 2x4 matrix\n",
        "# specifying axis = 0 to add row-wise\n",
        "arr_2D = np.append(arr_2D, [[3,4,10,500]], axis = 0)\n",
        "arr_2D"
      ],
      "execution_count": null,
      "outputs": [
        {
          "output_type": "execute_result",
          "data": {
            "text/plain": [
              "array([[  3,   6,   9,  10],\n",
              "       [  1,   8,   0,  11],\n",
              "       [  3,   4,  10, 500]])"
            ]
          },
          "metadata": {
            "tags": []
          },
          "execution_count": 8
        }
      ]
    },
    {
      "cell_type": "markdown",
      "metadata": {
        "id": "73efbNV8r__m"
      },
      "source": [
        "Appending rows or columns to matrices can also be done through the np.hstack and np.vstack functions, which stack arrays column-wise and row-wise respectively.\n",
        "\n",
        "For example, in order to create a 1-dimensional array that consists of two different sub-arrays, we can use the np.hstack function (horizontally stacking the sub-arrays)."
      ]
    },
    {
      "cell_type": "code",
      "metadata": {
        "colab": {
          "base_uri": "https://localhost:8080/"
        },
        "id": "jiJoNWF4sCAH",
        "outputId": "6c5eee48-cb07-435e-ecdc-1daeab2d2d8e"
      },
      "source": [
        "arr1 = np.array([1,2,3])\n",
        "arr2 = np.array([4,5,6])\n",
        "arr_1D = np.hstack((arr1, arr2))\n",
        "arr_1D"
      ],
      "execution_count": null,
      "outputs": [
        {
          "output_type": "execute_result",
          "data": {
            "text/plain": [
              "array([1, 2, 3, 4, 5, 6])"
            ]
          },
          "metadata": {
            "tags": []
          },
          "execution_count": 9
        }
      ]
    },
    {
      "cell_type": "markdown",
      "metadata": {
        "id": "1PXIqjWzsE2G"
      },
      "source": [
        "Similarly, in order to create a 2x3 matrix with arr1 as the first row and arr2 as the second row, we can use the np.vstack function (vertically stacking the sub-arrays)."
      ]
    },
    {
      "cell_type": "code",
      "metadata": {
        "colab": {
          "base_uri": "https://localhost:8080/"
        },
        "id": "n96DuPQKsG1G",
        "outputId": "61321ce1-a9da-48ca-f7cf-91f5a70bbfbc"
      },
      "source": [
        "arr_2D = np.vstack((arr1, arr2))\n",
        "arr_2D"
      ],
      "execution_count": null,
      "outputs": [
        {
          "output_type": "execute_result",
          "data": {
            "text/plain": [
              "array([[1, 2, 3],\n",
              "       [4, 5, 6]])"
            ]
          },
          "metadata": {
            "tags": []
          },
          "execution_count": 10
        }
      ]
    },
    {
      "cell_type": "markdown",
      "metadata": {
        "id": "KuM7884BuIb0"
      },
      "source": [
        "In order to confirm your understanding of modifying arrays and matrices with NumPy, please complete the following cells."
      ]
    },
    {
      "cell_type": "markdown",
      "metadata": {
        "id": "m-jWpuBTuVSP"
      },
      "source": [
        "1) Create a 3x6 matrix with all integers from 1 to 18 in increasing order across the row."
      ]
    },
    {
      "cell_type": "code",
      "metadata": {
        "id": "Pd3sN7qhuvdd"
      },
      "source": [
        "# YOUR CODE HERE\n"
      ],
      "execution_count": null,
      "outputs": []
    },
    {
      "cell_type": "markdown",
      "metadata": {
        "id": "NrJ-lgPzuyCe"
      },
      "source": [
        "2) Now, create a new matrix (arr2) that has the same entries as arr1 but with two more columns (same number of rows). You can choose the entries of the two new columns to be whatever you like."
      ]
    },
    {
      "cell_type": "code",
      "metadata": {
        "id": "xnmxAryXvTbe"
      },
      "source": [
        "# YOUR CODE HERE\n"
      ],
      "execution_count": null,
      "outputs": []
    },
    {
      "cell_type": "markdown",
      "metadata": {
        "id": "tR3i1_p4UEWG"
      },
      "source": [
        "Now that we understand the basics of NumPy arrays (1-dimensional and matrices) and the various methods for appending values, rows, or columns to an array or matrix, we can move into actually using these data structures for computation in linear algebra problems.\n",
        "\n",
        "Let's move to establishing an understanding of how to go from a state space to an array.\n",
        "\n",
        "# State Space Representation Using Numpy\n",
        "You are in a store, and you see customers besides you buying various fruits and vegetables. Due to Corona, you only have 5 minutes in the store. As a result, you want to know the prices of fruits and vegetables in the store by observing the orders of other individuals. Luckily, you have your computer with you, and can input the orders and prices of the orders that you see from other people. This way, you can use numpy, along with linear algebra techniques that you know, to solve for the price of the individual items. \n",
        "\n",
        "Here are the orders you see:\n",
        "*   Alice: 2 oranges, 5 apples, 3 onions, 1 carrot, for $10.75\n",
        "\n",
        "*   John: 4 oranges, 3 apples, 2 onions, 2 carrot, for $11.00 \n",
        "\n",
        "*   Henry: 1 orange, 1 apple, 1 onion, 1 carrot, for $4.25\n",
        "\n",
        "*   Peter: 6 oranges, 1 apple, 10 onions, 100 carrots, for $214.00\n",
        "\n",
        "\n"
      ]
    },
    {
      "cell_type": "code",
      "metadata": {
        "id": "j_uKe3cEVrYl",
        "colab": {
          "base_uri": "https://localhost:8080/",
          "height": 129
        },
        "outputId": "1bf350ff-4ebf-4b86-a8c9-128bba656545"
      },
      "source": [
        "# create a matrix using np.array()\n",
        "# Use inverses to solve for the value of each item\n",
        "\n",
        "# YOUR CODE HERE\n",
        "\n",
        "orders = # array representing orders\n",
        "order_costs = # array representing costs\n",
        "item_costs = #array representing item costs\n",
        "\n",
        "print(orders @ item_costs)\n",
        "\n",
        "# END CODE"
      ],
      "execution_count": null,
      "outputs": [
        {
          "output_type": "error",
          "ename": "SyntaxError",
          "evalue": "ignored",
          "traceback": [
            "\u001b[0;36m  File \u001b[0;32m\"<ipython-input-13-559ce5388a3c>\"\u001b[0;36m, line \u001b[0;32m6\u001b[0m\n\u001b[0;31m    orders = # array representing orders\u001b[0m\n\u001b[0m                                        ^\u001b[0m\n\u001b[0;31mSyntaxError\u001b[0m\u001b[0;31m:\u001b[0m invalid syntax\n"
          ]
        }
      ]
    },
    {
      "cell_type": "markdown",
      "metadata": {
        "id": "rzJuaJLHTB3w"
      },
      "source": [
        "Let's explore this a bit more in detail. Henry's order has now changed to the following: \n",
        "\n",
        "\n",
        "*   6 oranges, 8 apples, 5 onions, 3 carrots for $21.75\n",
        "\n",
        "Modify and solve the problem to reflect this.\n"
      ]
    },
    {
      "cell_type": "code",
      "metadata": {
        "id": "kcmcmTDNVV9O",
        "colab": {
          "base_uri": "https://localhost:8080/",
          "height": 197
        },
        "outputId": "fc0e636d-27ff-4bc2-b498-f1aa9c4a2b5e"
      },
      "source": [
        "# modify the orders matrix\n",
        "# modify the order_costs matrix\n",
        "# solve for the new item_costs\n",
        "\n",
        "#YOUR CODE HERE\n",
        "\n",
        "#END CODE\n",
        "\n",
        "print(item_costs)\n"
      ],
      "execution_count": null,
      "outputs": [
        {
          "output_type": "error",
          "ename": "NameError",
          "evalue": "ignored",
          "traceback": [
            "\u001b[0;31m---------------------------------------------------------------------------\u001b[0m",
            "\u001b[0;31mNameError\u001b[0m                                 Traceback (most recent call last)",
            "\u001b[0;32m<ipython-input-14-92f401366504>\u001b[0m in \u001b[0;36m<module>\u001b[0;34m()\u001b[0m\n\u001b[1;32m      7\u001b[0m \u001b[0;31m#END CODE\u001b[0m\u001b[0;34m\u001b[0m\u001b[0;34m\u001b[0m\u001b[0;34m\u001b[0m\u001b[0m\n\u001b[1;32m      8\u001b[0m \u001b[0;34m\u001b[0m\u001b[0m\n\u001b[0;32m----> 9\u001b[0;31m \u001b[0mprint\u001b[0m\u001b[0;34m(\u001b[0m\u001b[0mitem_costs\u001b[0m\u001b[0;34m)\u001b[0m\u001b[0;34m\u001b[0m\u001b[0;34m\u001b[0m\u001b[0m\n\u001b[0m",
            "\u001b[0;31mNameError\u001b[0m: name 'item_costs' is not defined"
          ]
        }
      ]
    },
    {
      "cell_type": "markdown",
      "metadata": {
        "id": "azBKxgsmJN9q"
      },
      "source": [
        "What do you observe? What does this mean? Why did this not happen in the first case?\n",
        "\n",
        "HINT: Check the matrix inverse and determinant."
      ]
    },
    {
      "cell_type": "code",
      "metadata": {
        "id": "Q_5RVdW-M3FS"
      },
      "source": [
        ""
      ],
      "execution_count": null,
      "outputs": []
    },
    {
      "cell_type": "markdown",
      "metadata": {
        "id": "ueIeWfOwJfVp"
      },
      "source": [
        "Shift Henry's order back to what it was initially. Now add Carl's order:\n",
        "\n",
        "\n",
        "*   Carl: 6 oranges, 8 apples, 5 onions, 3 carrots for $21.75\n",
        "\n",
        "Modify and solve the problem to reflect this\n",
        "\n"
      ]
    },
    {
      "cell_type": "code",
      "metadata": {
        "id": "WmKYnHl8JIGe",
        "colab": {
          "base_uri": "https://localhost:8080/",
          "height": 197
        },
        "outputId": "b94028ca-ec38-4fa7-fd28-ac62f4940cfb"
      },
      "source": [
        "# modify the orders matrix\n",
        "# modify the order_costs matrix\n",
        "# solve for the new item_costs\n",
        "\n",
        "#YOUR CODE HERE\n",
        "\n",
        "#END CODE\n",
        "\n",
        "print(item_costs)\n"
      ],
      "execution_count": null,
      "outputs": [
        {
          "output_type": "error",
          "ename": "NameError",
          "evalue": "ignored",
          "traceback": [
            "\u001b[0;31m---------------------------------------------------------------------------\u001b[0m",
            "\u001b[0;31mNameError\u001b[0m                                 Traceback (most recent call last)",
            "\u001b[0;32m<ipython-input-15-92f401366504>\u001b[0m in \u001b[0;36m<module>\u001b[0;34m()\u001b[0m\n\u001b[1;32m      7\u001b[0m \u001b[0;31m#END CODE\u001b[0m\u001b[0;34m\u001b[0m\u001b[0;34m\u001b[0m\u001b[0;34m\u001b[0m\u001b[0m\n\u001b[1;32m      8\u001b[0m \u001b[0;34m\u001b[0m\u001b[0m\n\u001b[0;32m----> 9\u001b[0;31m \u001b[0mprint\u001b[0m\u001b[0;34m(\u001b[0m\u001b[0mitem_costs\u001b[0m\u001b[0;34m)\u001b[0m\u001b[0;34m\u001b[0m\u001b[0;34m\u001b[0m\u001b[0m\n\u001b[0m",
            "\u001b[0;31mNameError\u001b[0m: name 'item_costs' is not defined"
          ]
        }
      ]
    },
    {
      "cell_type": "markdown",
      "metadata": {
        "id": "NZN-i3fBL6gg"
      },
      "source": [
        "# **Benefits of Using Numpy**\n",
        "So far, we have discussed the use of numpy to solve various linear algebra problems, to do matrix multiplication, and more. But what makes NumPy so special? After all, we can write the code necessary for matrix operations ourselves using loops and basic arithmetic.\n",
        "\n",
        "In fact, let's compare the use of NumPy versus writing our own code in the context of matrix multiplication.\n"
      ]
    },
    {
      "cell_type": "markdown",
      "metadata": {
        "id": "Ck0LKc-LMynT"
      },
      "source": [
        "First, write prod(x,y), the product of two arrays, using coding techniques that you have learned from classes. "
      ]
    },
    {
      "cell_type": "code",
      "metadata": {
        "id": "_vT7Myb7Mx0B",
        "colab": {
          "base_uri": "https://localhost:8080/",
          "height": 129
        },
        "outputId": "1409bb87-0bfe-401b-88a1-fa28531ffa81"
      },
      "source": [
        "def prod(x,y):\n",
        "  '''Returns the product of x and y, two 2D arrays\n",
        "     If the product cannot be returned for some reason,\n",
        "     return None'''\n",
        "   raise NotImplementedError \n"
      ],
      "execution_count": null,
      "outputs": [
        {
          "output_type": "error",
          "ename": "IndentationError",
          "evalue": "ignored",
          "traceback": [
            "\u001b[0;36m  File \u001b[0;32m\"<ipython-input-16-986cb7fb33eb>\"\u001b[0;36m, line \u001b[0;32m5\u001b[0m\n\u001b[0;31m    raise NotImplementedError\u001b[0m\n\u001b[0m    ^\u001b[0m\n\u001b[0;31mIndentationError\u001b[0m\u001b[0;31m:\u001b[0m unexpected indent\n"
          ]
        }
      ]
    },
    {
      "cell_type": "markdown",
      "metadata": {
        "id": "TmHRM86rNPlP"
      },
      "source": [
        "Now, write NumpyProd(x,y), the product of two arrays using NumPy. Instead of relying on NumPy to return errors when the product is not possible, account for errors and return None to maintain uniformity with prod."
      ]
    },
    {
      "cell_type": "code",
      "metadata": {
        "id": "3b4ZxAgvNgLd",
        "colab": {
          "base_uri": "https://localhost:8080/",
          "height": 129
        },
        "outputId": "4917b9f4-1bc0-4e8b-e9f1-d73645d651ed"
      },
      "source": [
        "def NumpyProd(x,y):\n",
        "  '''Returns the product of x and y, two 2D arrays using NumPy\n",
        "     If the product cannot be returned for some reason,\n",
        "     return None'''\n",
        "   raise NotImplementedError "
      ],
      "execution_count": null,
      "outputs": [
        {
          "output_type": "error",
          "ename": "IndentationError",
          "evalue": "ignored",
          "traceback": [
            "\u001b[0;36m  File \u001b[0;32m\"<ipython-input-17-8e8dbf4194c7>\"\u001b[0;36m, line \u001b[0;32m5\u001b[0m\n\u001b[0;31m    raise NotImplementedError\u001b[0m\n\u001b[0m    ^\u001b[0m\n\u001b[0;31mIndentationError\u001b[0m\u001b[0;31m:\u001b[0m unexpected indent\n"
          ]
        }
      ]
    },
    {
      "cell_type": "code",
      "metadata": {
        "id": "QurUWm2rNnIb"
      },
      "source": [
        "# generate matrices to test runtimes\n",
        "small_matrix1 = np.random.rand(10, 10)\n",
        "small_matrix2 = np.random.rand(10, 10)\n",
        "med_matrix1 = np.random.rand(100,100)\n",
        "med_matrix2 = np.random.rand(100,100)\n",
        "large_matrix1 = np.random.rand(10000, 10000)\n",
        "large_matrix2 = np.random.rand(10000, 10000)\n",
        "small_matrix1 = small_matrix1.tolist()\n",
        "med_matrix1 = med_matrix1.tolist()\n",
        "large_matrix1 = large_matrix1.tolist()\n",
        "small_matrix2 = small_matrix2.tolist()\n",
        "med_matrix2 = med_matrix2.tolist()\n",
        "large_matrix2 = large_matrix2.tolist()"
      ],
      "execution_count": null,
      "outputs": []
    },
    {
      "cell_type": "code",
      "metadata": {
        "colab": {
          "base_uri": "https://localhost:8080/",
          "height": 251
        },
        "id": "1XHdu0yaOQIG",
        "outputId": "780eaf81-d7f2-4a02-eef7-e0d8dc3d13a8"
      },
      "source": [
        "print(small_matrix1)\n",
        "p1 = prod(small_matrix1, small_matrix2)\n",
        "p1alt = NumpyProd(small_matrix1, small_matrix2)\n",
        "assert(p1 == p1alt)"
      ],
      "execution_count": null,
      "outputs": [
        {
          "output_type": "stream",
          "text": [
            "[[0.7439423251699212, 0.5602029871642904, 0.749695498673801, 0.9554677660122519, 0.9186190100987732, 0.5387707481699239, 0.9900191949946625, 0.7125204428695775, 0.04109387497847983, 0.4690220520054601], [0.2228541598021747, 0.299098917126809, 0.8701431529658857, 0.9413053890080071, 0.6384509581972264, 0.004311642721576359, 0.5346636148052986, 0.8133953581137645, 0.3586382130157534, 0.7613780463449328], [0.6727318680556053, 0.5351283920144657, 0.4352631081243701, 0.9052061356951148, 0.09964317276553802, 0.06918615130868022, 0.8096937437462727, 0.1039269462971476, 0.37544013035726587, 0.38607844621393206], [0.9520925763609438, 0.602335011674495, 0.6202996394874071, 0.10388964930201161, 0.1766964346031279, 0.756828336342021, 0.4888056676580712, 0.01668197803703786, 0.22136304959989683, 0.349963755639929], [0.6030942352110196, 0.29740731544143006, 0.012306641274338226, 0.8978895142168729, 0.9368454271089566, 0.22534069985259064, 0.33407226667540113, 0.9616872877676796, 0.6023377323143574, 0.3079292297232705], [0.21041629062140932, 0.5085126901212056, 0.9220292499367524, 0.7788283437734215, 0.9299102179861691, 0.07758751963049493, 0.6548096803155131, 0.9078999214283059, 0.9874962971335847, 0.9430151890981596], [0.9717708322104888, 0.30022863555104407, 0.9375898056947479, 0.9435684606552469, 0.49483032138440597, 0.09514397570740651, 0.6169183641177184, 0.6451741301241555, 0.4604916542277009, 0.3254164503698945], [0.954686281147022, 0.25849114693185804, 0.8771038339961534, 0.18603486958788118, 0.42660952297337973, 0.4194586293782223, 0.20247411936062476, 0.9320570605242549, 0.9591766538843307, 0.300265020153915], [0.7745379037778146, 0.5481156639773526, 0.16522742354814535, 0.726140395520789, 0.17024210398249207, 0.3727148079269528, 0.17855188451614012, 0.2594805053239684, 0.9362559451162008, 0.5557234073771233], [0.3340163307947863, 0.22509931042786357, 0.7552201255402704, 0.8151117886884582, 0.4491602257791899, 0.23446391289932822, 0.26407925508663144, 0.9786788881700134, 0.41592072101732214, 0.9334364288493285]]\n"
          ],
          "name": "stdout"
        },
        {
          "output_type": "error",
          "ename": "NameError",
          "evalue": "ignored",
          "traceback": [
            "\u001b[0;31m---------------------------------------------------------------------------\u001b[0m",
            "\u001b[0;31mNameError\u001b[0m                                 Traceback (most recent call last)",
            "\u001b[0;32m<ipython-input-19-a152fda57b98>\u001b[0m in \u001b[0;36m<module>\u001b[0;34m()\u001b[0m\n\u001b[1;32m      1\u001b[0m \u001b[0mprint\u001b[0m\u001b[0;34m(\u001b[0m\u001b[0msmall_matrix1\u001b[0m\u001b[0;34m)\u001b[0m\u001b[0;34m\u001b[0m\u001b[0;34m\u001b[0m\u001b[0m\n\u001b[0;32m----> 2\u001b[0;31m \u001b[0mp1\u001b[0m \u001b[0;34m=\u001b[0m \u001b[0mprod\u001b[0m\u001b[0;34m(\u001b[0m\u001b[0msmall_matrix1\u001b[0m\u001b[0;34m,\u001b[0m \u001b[0msmall_matrix2\u001b[0m\u001b[0;34m)\u001b[0m\u001b[0;34m\u001b[0m\u001b[0;34m\u001b[0m\u001b[0m\n\u001b[0m\u001b[1;32m      3\u001b[0m \u001b[0mp1alt\u001b[0m \u001b[0;34m=\u001b[0m \u001b[0mNumpyProd\u001b[0m\u001b[0;34m(\u001b[0m\u001b[0msmall_matrix1\u001b[0m\u001b[0;34m,\u001b[0m \u001b[0msmall_matrix2\u001b[0m\u001b[0;34m)\u001b[0m\u001b[0;34m\u001b[0m\u001b[0;34m\u001b[0m\u001b[0m\n\u001b[1;32m      4\u001b[0m \u001b[0;32massert\u001b[0m\u001b[0;34m(\u001b[0m\u001b[0mp1\u001b[0m \u001b[0;34m==\u001b[0m \u001b[0mp1alt\u001b[0m\u001b[0;34m)\u001b[0m\u001b[0;34m\u001b[0m\u001b[0;34m\u001b[0m\u001b[0m\n",
            "\u001b[0;31mNameError\u001b[0m: name 'prod' is not defined"
          ]
        }
      ]
    },
    {
      "cell_type": "code",
      "metadata": {
        "id": "_ng4SEiOOqp-"
      },
      "source": [
        "p2 = prod(med_matrix1, med_matrix2)\n",
        "p2alt = NumpyProd(med_matrix1, med_matrix2)\n",
        "assert(p2 == p2alt)"
      ],
      "execution_count": null,
      "outputs": []
    },
    {
      "cell_type": "code",
      "metadata": {
        "id": "L2xowg9dOrI4"
      },
      "source": [
        "p3 = prod(large_matrix1, large_matrix2)\n",
        "p3alt = NumpyProd(large_matrix1, large_matrix2)\n",
        "assert(p3 == p3alt)"
      ],
      "execution_count": null,
      "outputs": []
    },
    {
      "cell_type": "markdown",
      "metadata": {
        "id": "EOhLE5dItt1-"
      },
      "source": [
        "# Use of np.einsum"
      ]
    },
    {
      "cell_type": "markdown",
      "metadata": {
        "id": "lJxpJSZQt7oF"
      },
      "source": [
        "NumPy has many mathematical functions to work with matrices, such as np.transpose and np.multiply. However, there is a very neat function called np.einsum which can combine multiple NumPy mathematical functions into one. If you have heard of regular expressions to extract specific text from a string, the idea with np.einsum is very similar.\n",
        "\n",
        "The first argument of np.einsum is always a string specifying the mathematical operation being done on an array or matrix. Suppose you have matrix $A$ with dimension $2$x$3$ and matrix $B$ with dimension $3$x$4$. If we let $\\verb|i = range(2), j = range(3), k = range(4)|$, then the matrix multiplication specifying $AB$ (a $2$x$4$ matrix) is $\\verb|np.einsum('ij, jk -> ik', A, B)|$. In other words, we are taking element $(i,j)$ of A and element $(j,k)$ of B and combining them to create element $(i,k)$ of matrix $AB$. \n",
        "\n",
        "Here is an example of using $\\verb|np.einsum|$ to compute the transpose of a matrix. Note that we simply want to flip element (i,j) of the original matrix to element (j,i) in the transpose, hence the 'ji' in the first argument."
      ]
    },
    {
      "cell_type": "code",
      "metadata": {
        "colab": {
          "base_uri": "https://localhost:8080/"
        },
        "id": "xV1Q2m9LyOt1",
        "outputId": "375c7fe7-7567-467e-f8ec-4a2536b9519a"
      },
      "source": [
        "# transpose of mat1\n",
        "mat1 = np.array([1,2,3,4,5,6]).reshape(2,3)\n",
        "np.einsum('ji', mat1)"
      ],
      "execution_count": null,
      "outputs": [
        {
          "output_type": "execute_result",
          "data": {
            "text/plain": [
              "array([[1, 4],\n",
              "       [2, 5],\n",
              "       [3, 6]])"
            ]
          },
          "metadata": {
            "tags": []
          },
          "execution_count": 20
        }
      ]
    },
    {
      "cell_type": "markdown",
      "metadata": {
        "id": "IfIlphV-0Apd"
      },
      "source": [
        "Here is an example of using $\\verb|np.einsum|$ to do matrix multiplication, where $\\verb|i = range(2), j = range(3), k = range(1)|$. We are using the original 2x3 matrix mat1 and a newly defined 3x1 vector mat2, so that the output is a 2x1 vector."
      ]
    },
    {
      "cell_type": "code",
      "metadata": {
        "id": "RdOPXDj-0Tz3"
      },
      "source": [
        "mat2 = np.array([10, 20, 30]).reshape(3,1)\n",
        "np.einsum('ij, jk -> ik', mat1, mat2)"
      ],
      "execution_count": null,
      "outputs": []
    },
    {
      "cell_type": "markdown",
      "metadata": {
        "id": "b04ThySsM6Sf"
      },
      "source": [
        "This is equivalent to computing\n",
        "\n",
        "$\\begin{bmatrix}\n",
        "1 & 2 & 3\\\\\n",
        "4 & 5 & 6                   \n",
        "\\end{bmatrix}$ * $\\begin{bmatrix}\n",
        "10 \\\\\n",
        "20 \\\\\n",
        "30\n",
        "\\end{bmatrix}$"
      ]
    },
    {
      "cell_type": "markdown",
      "metadata": {
        "id": "TJYVNg5Fv6K5"
      },
      "source": [
        "Complete the following code cell to confirm your understanding of $\\verb|np.einsum|$."
      ]
    },
    {
      "cell_type": "markdown",
      "metadata": {
        "id": "tBDnpjR9v3lQ"
      },
      "source": [
        "1) Calculate the matrix product $AB$ with $\\verb|np.einsum|$, as defined below."
      ]
    },
    {
      "cell_type": "code",
      "metadata": {
        "id": "Hudjg8N7v2kE"
      },
      "source": [
        "A = np.arange(1, 22).reshape(7,3)\n",
        "B = np.arange(1, 19).reshape(3,6)\n",
        "# YOUR CODE HERE\n"
      ],
      "execution_count": null,
      "outputs": []
    },
    {
      "cell_type": "markdown",
      "metadata": {
        "id": "tzZPid1WvvAL"
      },
      "source": [
        "# Eigenvectors and Eigenvalues\n",
        "\n",
        "Recall from EECS16A that an eigenvector $x$ of a matrix $A$ is defined as a vector for which $Ax = λx$. $λ$ is known as an eigenvalue of $A$. \n",
        "\n",
        "Why is this so significant? Well, for one, we might seek to understand what happens when we multiply $A^n x$. \n",
        "\n",
        "When we know $x$ is an eigenvector of $A$, we can find $A^nx$ by computing $λ^nx$. \n",
        "\n",
        "Let's explore this concept a little bit using our friend, NumPy."
      ]
    },
    {
      "cell_type": "code",
      "metadata": {
        "id": "4I7Hy_-Cw6Ja"
      },
      "source": [
        "# This is the matrix A that you will be using in order to find A^nx. \n",
        "A = np.array([[2,5], [4,1]])"
      ],
      "execution_count": null,
      "outputs": []
    },
    {
      "cell_type": "markdown",
      "metadata": {
        "id": "806L1blxxLoR"
      },
      "source": [
        "To find the eigenvalues and eigenvectors of A, We can use $\\verb|np.linalg.eig(A)|$. This will return an array of eigenvalues, and a corresponding array of eigenvectors. Remember, the eigenvectors are arranged by **column**."
      ]
    },
    {
      "cell_type": "code",
      "metadata": {
        "id": "WlFP6rFSxJnv"
      },
      "source": [
        "eigenvalues = None\n",
        "eigenvectors = None\n",
        "\n",
        "### YOUR CODE HERE\n",
        "\n",
        "eigenvalues = np.linalg.eig(A)[0]\n",
        "eigenvectors = np.linalg.eig(A)[1]\n",
        "\n",
        "### END CODE"
      ],
      "execution_count": null,
      "outputs": []
    },
    {
      "cell_type": "markdown",
      "metadata": {
        "id": "HxKwMiImiKtT"
      },
      "source": [
        "Now, let's imagine that we want to compute $A^nx_1$, where $x_1$ is our first eigenvector. How would we compute this?"
      ]
    },
    {
      "cell_type": "code",
      "metadata": {
        "colab": {
          "base_uri": "https://localhost:8080/"
        },
        "id": "jyemOL8TiUUR",
        "outputId": "5eb2dffc-a86c-4051-8de6-8a62ad07f236"
      },
      "source": [
        "n = 100\n",
        "\n",
        "### YOUR CODE HERE\n",
        "x1 = # first eigenvector\n",
        "# compute the nth power of x1.\n",
        "x1n = #A^n(x1)\n",
        "# END CODE\n",
        "\n",
        "print(x1n)\n",
        "\n"
      ],
      "execution_count": null,
      "outputs": [
        {
          "output_type": "stream",
          "text": [
            "(array([-0.37228132,  5.37228132]), array([[-0.82456484, -0.41597356],\n",
            "       [ 0.56576746, -0.90937671]]))\n"
          ],
          "name": "stdout"
        }
      ]
    },
    {
      "cell_type": "code",
      "metadata": {
        "colab": {
          "base_uri": "https://localhost:8080/"
        },
        "id": "wPRI6mB3if9z",
        "outputId": "558a8a33-7032-47cd-e56e-d0755de3c4ba"
      },
      "source": [
        "# Compare this to simple matrix multiplication. Do the same operation without the use of the eigenvalue."
      ],
      "execution_count": null,
      "outputs": [
        {
          "output_type": "execute_result",
          "data": {
            "text/plain": [
              "array([4.68521286, 3.74817029])"
            ]
          },
          "metadata": {
            "tags": []
          },
          "execution_count": 43
        }
      ]
    },
    {
      "cell_type": "markdown",
      "metadata": {
        "id": "-Sw8_E3Gl9q3"
      },
      "source": [
        "# Diagonalization\n",
        "Recall from EECS16A that the existence of eigenvalues and eigenvectors in a matrix allows it to be diagonalized in the form $VΛV^{-1}$. Let's use NumPy to do this, as diagonalization is a very useful technique used in a variety of applications.\n",
        "\n",
        "In order to do this, leverage the skills you have learned about. First find the eigenvalues and eigenvectors, then find the diagonal $Λ$ matrix, and stack eigenvectors to obtain the $V$ matrix."
      ]
    },
    {
      "cell_type": "code",
      "metadata": {
        "id": "vNx-xMR8i_LX"
      },
      "source": [
        "def diagonalize(A):\n",
        "  raise NotImplementedError"
      ],
      "execution_count": null,
      "outputs": []
    },
    {
      "cell_type": "markdown",
      "metadata": {
        "id": "7RbBOCfGm-Ih"
      },
      "source": [
        "Good Job! By now, you should have a good idea with how to find eigenvalues and use diagonalization quickly using NumPy."
      ]
    },
    {
      "cell_type": "markdown",
      "metadata": {
        "id": "ZOm6HZBnB4M5"
      },
      "source": [
        "# Least Squares\n",
        "\n",
        "In EECS16A, you should be able to recall the concept of least squares. Provided some data in an $X$ matrix, and some $y$ values associated with this data, the goal is to be able to predict a $y$ value given the associated data.\n",
        "\n",
        "\n",
        "To be clear, our goal is to find a vector $w$ such that $Xw = y$.\n",
        "\n",
        "It might seem obvious upon initial glance-- just multiply $X^{-1}$ on both sides to generate the $w$ vector. However, what if $X$ is not invertible? What if $X$ has many more rows than columns? What if there is not a perfect solution $w$? Enter least squares. \n",
        "\n",
        "Least squares seeks to resolve the situation where there is no solution that may be simply achieved through matrix inverses. Let's look at this problem from the perspective of linear algebra. \n",
        "\n",
        "\n",
        "The problem of trying to find a $w$ such that $Xw = y$ is the same as trying to find the linear combination of $X$'s column space that creates the vector $y$. In the event that $y$ is not in the column space of $X$, however, we need to find the **best possible** value for w. The notion of the best possible value is given by the L-2 norm distance. In EECS16A, you found that this is the same as $w = (X^TX)^{-1}  X^T  y$."
      ]
    },
    {
      "cell_type": "markdown",
      "metadata": {
        "id": "Z6OwNUpNGmX2"
      },
      "source": [
        "## Least Squares using NumPy\n",
        "\n",
        "Let's go back to our example of buying fruits in the supermarket. Given the following data, try to create a prediction for the price of the vegetables and fruits:\n",
        "\n",
        "*   Alice: 2 oranges, 5 apples, 3 onions, 1 carrot, for $10.75\n",
        "\n",
        "*   John: 4 oranges, 3 apples, 2 onions, 2 carrot, for $11.00 \n",
        "\n",
        "*   Henry: 1 orange, 1 apple, 1 onion, 1 carrot, for $4.25\n",
        "\n",
        "*   Peter: 6 oranges, 1 apple, 10 onions, 100 carrots, for $214.00\n",
        "\n",
        "*   Jose   6 oranges, 8 apples, 5 onions, 3 carrots for $21.75\n",
        "\n"
      ]
    },
    {
      "cell_type": "code",
      "metadata": {
        "id": "fAGQonaSEjqX"
      },
      "source": [
        "### YOUR CODE HERE\n",
        "X = # X matrix representing the order\n",
        "y = # prices\n",
        "w = # solution using least squares\n",
        "\n",
        "### END CODE"
      ],
      "execution_count": null,
      "outputs": []
    },
    {
      "cell_type": "markdown",
      "metadata": {
        "id": "umDeN9xyHY33"
      },
      "source": [
        "Now that we have a solution w, let's find the ***error*** that we get from the y data. Error will be represented by the squared error of the L2 distance between your predicted y and the actual y."
      ]
    },
    {
      "cell_type": "code",
      "metadata": {
        "id": "wPyywmqyHMAr"
      },
      "source": [
        "def calculateError(pred_y, y):\n",
        "  ### YOUR CODE HERE\n",
        "  # calculates the squared error between your prediction and the actual y\n",
        "\n",
        "pred_y = # predicted_y\n",
        "\n",
        "print(calculateError(pred_y, y))\n",
        "### END CODE\n",
        "\n"
      ],
      "execution_count": null,
      "outputs": []
    },
    {
      "cell_type": "markdown",
      "metadata": {
        "id": "H6otpBy7H_LK"
      },
      "source": [
        "It turns out that Numpy has a function that computes the least squares solution for you. The function is np.linalg.lstsq() which takes in the X-data and y as it's parameters. Try to use this function, and calculate the error that results."
      ]
    },
    {
      "cell_type": "code",
      "metadata": {
        "id": "sow7iAKNH95-"
      },
      "source": [
        "### YOUR CODE HERE\n",
        "w = # numpy method call\n",
        "pred_y_np = # predicted y\n",
        "\n",
        "print(calculateError(pred_y_np, y))\n",
        "\n",
        "### END CODE\n"
      ],
      "execution_count": null,
      "outputs": []
    },
    {
      "cell_type": "markdown",
      "metadata": {
        "id": "-W212jkt4c06"
      },
      "source": [
        "## Polynomial Featurization"
      ]
    },
    {
      "cell_type": "markdown",
      "metadata": {
        "id": "1GWrmiqcsY11"
      },
      "source": [
        "As you have seen before, one of the most common applications of computation with linear algebra tools is the least squares problem, which aims to minimize the squared norm of the distance between a linear projection of the features and the actual data points. The least squares problem is not limited to the 2-dimensional case in which we can visually see a **linear** relationship between x and y. Instead, if we believe the true model is non-linear, we create more \"linear\" features which are simply higher order polymomials of the current features. For example, if we have a list of $(x, y)$ coordinates, and our data looks roughly quadratic, we can create a new feature $x^2$, in addition to the existing **$1$** vector (intercept) and $x$ vector."
      ]
    },
    {
      "cell_type": "markdown",
      "metadata": {
        "id": "Mg8di7Qsk3zb"
      },
      "source": [
        "#### Adding Higher-Order Polynomials"
      ]
    },
    {
      "cell_type": "markdown",
      "metadata": {
        "id": "XpkjFNst3Z3R"
      },
      "source": [
        "Before we get into a specific example that uses higher order polynomial features, let's explore how exactly these features are created and some potential downsides of generating unnecessary features.\n",
        "\n",
        "Run the following cell to visualize the current generated data."
      ]
    },
    {
      "cell_type": "code",
      "metadata": {
        "id": "1r-TWrpyMouO"
      },
      "source": [
        "#@title Data Generation - Secret\n",
        "# data generation\n",
        "x = np.linspace(-4.3, 4.3, 100)\n",
        "true_y = 4 + 0.2 * x + x**2 + 0.8 * x**3 + 0.2 * x**4\n",
        "noisy_y = true_y + np.random.normal(0, 10, 100)"
      ],
      "execution_count": null,
      "outputs": []
    },
    {
      "cell_type": "code",
      "metadata": {
        "colab": {
          "base_uri": "https://localhost:8080/",
          "height": 282
        },
        "id": "_uvM2FNU3klw",
        "outputId": "21555ab1-fab2-4368-d679-dd45cbc91604"
      },
      "source": [
        "# visualize the data\n",
        "plt.plot(x, noisy_y, 'o', color='black')"
      ],
      "execution_count": null,
      "outputs": [
        {
          "output_type": "execute_result",
          "data": {
            "text/plain": [
              "[<matplotlib.lines.Line2D at 0x7fb6b9ffd1d0>]"
            ]
          },
          "metadata": {
            "tags": []
          },
          "execution_count": 8
        },
        {
          "output_type": "display_data",
          "data": {
            "image/png": "[encoded data removed]",
            "text/plain": [
              "<Figure size 432x288 with 1 Axes>"
            ]
          },
          "metadata": {
            "tags": [],
            "needs_background": "light"
          }
        }
      ]
    },
    {
      "cell_type": "markdown",
      "metadata": {
        "id": "127Mxj6m5CyS"
      },
      "source": [
        "In this case, running a simple linear regression of $y$ regressed on $x$ will not be of much help since the data is clearly non-linear. Therefore, we will hypothesize that the \"true\" data is generated from higher order polynomials, such as $x^2, x^3,$ and $x^4$.\n",
        "\n",
        "The data looks quadratic, so our first hypothesis is that our data points $y$ are generated from the following model: $$y = w_0 + w_1 x + w_2 x^2 + \\epsilon$$\n",
        "\n",
        "Now that we have a hypothesis model, we can formulate the least squares optimization problem:\n",
        "\n",
        "$$\\underset{w}{min} ||Xw - y||^2$$ where $X$ is the feature matrix with a **$1$**'s column, an **$x$** column, and an **$x^2$** column, and $w$ is the vector of coefficients $\\begin{bmatrix}\n",
        "w_0 \\\\\n",
        "w_1 \\\\\n",
        "w_2\n",
        "\\end{bmatrix}$.\n",
        "\n",
        "As you recalled above, the least squares solution to the least squares optimization is $\\hat{w_{LS}} = (X^T X)^{-1} X^T y$. We already have the values $y$, stored in $\\verb|noisy_y|$. We will use our newly acquired NumPy appending skills to create a feature matrix $X$ with the features described above.\n",
        "\n",
        "There are many ways to do this. We demonstrate just one way that can also be generalized to polynomials of degree $d$. \n",
        "\n",
        "Print the first three rows to verify that the entries are correct."
      ]
    },
    {
      "cell_type": "code",
      "metadata": {
        "id": "pax0FBCcMQqX"
      },
      "source": [
        "n = len(noisy_y)\n",
        "deg = 2\n",
        "X = np.empty([n, deg + 1])\n",
        "for d in range(deg + 1):\n",
        "  X_curr_deg = np.array(x ** d)\n",
        "  X[:, d] = X_curr_deg\n"
      ],
      "execution_count": null,
      "outputs": []
    },
    {
      "cell_type": "code",
      "metadata": {
        "id": "MBb-NcnXVdkj"
      },
      "source": [
        "# YOUR CODE HERE\n",
        "# print the first three rows of X\n"
      ],
      "execution_count": null,
      "outputs": []
    },
    {
      "cell_type": "code",
      "metadata": {
        "colab": {
          "base_uri": "https://localhost:8080/"
        },
        "id": "tYKF8107aHez",
        "outputId": "a6582d70-f8de-4b4f-f221-afb2b60a8886"
      },
      "source": [
        "# SOLUTION\n",
        "print(X[:3, ])"
      ],
      "execution_count": null,
      "outputs": [
        {
          "output_type": "stream",
          "text": [
            "[[ 1.         -4.3        18.49      ]\n",
            " [ 1.         -4.21313131 17.75047546]\n",
            " [ 1.         -4.12626263 17.02604326]]\n"
          ],
          "name": "stdout"
        }
      ]
    },
    {
      "cell_type": "markdown",
      "metadata": {
        "id": "-t2SEZQTmOvh"
      },
      "source": [
        "Now we can compute $\\hat{w_{LS}}$ with the formula from above. Before doing this, write a function $\\verb|LstSq|$ that has arguments $X$ and $y$ and returns the least squares solution $\\hat{w_{LS}}$ from above."
      ]
    },
    {
      "cell_type": "code",
      "metadata": {
        "id": "vrNR6LjNmPtR"
      },
      "source": [
        "def LstSq(X,y):\n",
        "  # YOUR CODE HERE\n",
        "  return NotImplementedError"
      ],
      "execution_count": null,
      "outputs": []
    },
    {
      "cell_type": "code",
      "metadata": {
        "id": "iYfINM_omf6I"
      },
      "source": [
        "# SOLUTION\n",
        "def LstSq(X,y):\n",
        "  return np.linalg.inv(X.T @ X) @ X.T @ y"
      ],
      "execution_count": null,
      "outputs": []
    },
    {
      "cell_type": "markdown",
      "metadata": {
        "id": "8ah94iZTYk8E"
      },
      "source": [
        "After computing $\\hat{w_{LS}}$, we will compute the predicted $\\hat{y}$ values to see the quality of the fit when compared to noisy_y. Recall that we can compute the predictions with $\\hat{y} = X\\hat{w_{LS}}$."
      ]
    },
    {
      "cell_type": "code",
      "metadata": {
        "id": "g4vxM0CUXZa0"
      },
      "source": [
        "# YOUR CODE HERE\n"
      ],
      "execution_count": null,
      "outputs": []
    },
    {
      "cell_type": "code",
      "metadata": {
        "id": "uTbhSxvWqNH2"
      },
      "source": [
        "# SOLUTION\n",
        "w_LS = LstSq(X, noisy_y)\n",
        "y_hat = X @ w_LS"
      ],
      "execution_count": null,
      "outputs": []
    },
    {
      "cell_type": "markdown",
      "metadata": {
        "id": "xZg0F2iJZyzb"
      },
      "source": [
        "Use the $\\verb|calculateError|$ function to compute the MSE of our predictions."
      ]
    },
    {
      "cell_type": "code",
      "metadata": {
        "id": "FKQRr5ySZ_g9"
      },
      "source": [
        "# YOUR CODE HERE \n",
        "# calculate the MSE of y_hat"
      ],
      "execution_count": null,
      "outputs": []
    },
    {
      "cell_type": "code",
      "metadata": {
        "id": "AKYXDLZtaLmP"
      },
      "source": [
        "# SOLUTION\n",
        "calculateError(y_hat, noisy_y)"
      ],
      "execution_count": null,
      "outputs": []
    },
    {
      "cell_type": "markdown",
      "metadata": {
        "id": "QHW-nh42IlmF"
      },
      "source": [
        "Our next step is to add some higher-dimensional features to see if they reveal something about our underlying true distribution. First, write a function $\\verb|featurize_d|$ that returns a NumPy matrix $X$ with all features from $x^0...x^d$ as separate columns for some degree $d$. The function's arguments should be the original data vector $x$ and our desired degree $d$.\n",
        "\n",
        "The caveat: you cannot copy the format from above. Instead, you must use NumPy (any functions within NumPy are okay)."
      ]
    },
    {
      "cell_type": "code",
      "metadata": {
        "id": "Ho8l7r4HMs-1"
      },
      "source": [
        "# YOUR CODE HERE\n",
        "# function returns a NumPy matrix X featurizing x to degree n\n",
        "def featurize_d(x, n):\n",
        "  # YOUR CODE HERE\n",
        "  return NotImplementedError"
      ],
      "execution_count": null,
      "outputs": []
    },
    {
      "cell_type": "markdown",
      "metadata": {
        "id": "Cy7HRJV3aukj"
      },
      "source": [
        "Now, add a column to $X$ with the entires $x^3$. Obtain the coefficients $w$, the predictions $\\hat{y}$, and the MSE. Print the coefficients and observe what has happened. Repeat the exercise with $x^4$ (keeping $x^3$). "
      ]
    },
    {
      "cell_type": "code",
      "metadata": {
        "id": "N4sGbdA-Hgov"
      },
      "source": [
        "# YOUR CODE HERE\n",
        "# calculate w, y_hat, and MSE with x^3 feature added\n",
        "# report w and MSE\n",
        "print(w_deg3, MSE_deg3)"
      ],
      "execution_count": null,
      "outputs": []
    },
    {
      "cell_type": "code",
      "metadata": {
        "id": "NWRHct5pINcI"
      },
      "source": [
        "# YOUR CODE HERE\n",
        "# calculate w, y_hat, and MSE with x^4 feature added\n",
        "# report w and MSE\n",
        "print(w_deg4, MSE_deg4)"
      ],
      "execution_count": null,
      "outputs": []
    },
    {
      "cell_type": "markdown",
      "metadata": {
        "id": "1C1n78VglOPp"
      },
      "source": [
        "#### \"Tradeoff\" of Using Higher-Order Polynomials"
      ]
    },
    {
      "cell_type": "markdown",
      "metadata": {
        "id": "eLIsJQIykzQO"
      },
      "source": [
        "You now understand the motivation to add more higher-dimensional polynomial features. However, adding too many features when the data is generated from a true lower-dimensional polynomial can signficantly increase the MSE.\n",
        "\n",
        "In the cell below, generate 100 equally spaced $x$ values between $-5$ and $5$ using $\\verb|np.linspace|$. Then generate a \"true\" output $y$ using the linear function $y = 3x + 2$. After obtaining $y$, create a variable $\\verb|y_noisy|$ where $y_{noisy} = y + \\epsilon$. We assume $\\epsilon \\sim N(\\mu = 0, \\sigma^2 = 2).$ In order to get $\\epsilon$, you can use the function $\\verb|np.random.normal|$.\n",
        "\n",
        "Visualize your generated data points with the provided code. Be sure to check that your variable names match up with the variable names we provide for visualization."
      ]
    },
    {
      "cell_type": "code",
      "metadata": {
        "colab": {
          "base_uri": "https://localhost:8080/",
          "height": 195
        },
        "id": "Rmg7XumaMfjk",
        "outputId": "452946e6-970e-4944-99ef-14a0c86925e0"
      },
      "source": [
        "# YOUR CODE HERE\n",
        "# define x, y, and y_noisy\n",
        "\n",
        "plt.plot(x, y_noisy, 'o')"
      ],
      "execution_count": null,
      "outputs": [
        {
          "output_type": "error",
          "ename": "NameError",
          "evalue": "ignored",
          "traceback": [
            "\u001b[0;31m---------------------------------------------------------------------------\u001b[0m",
            "\u001b[0;31mNameError\u001b[0m                                 Traceback (most recent call last)",
            "\u001b[0;32m<ipython-input-14-e047c367b559>\u001b[0m in \u001b[0;36m<module>\u001b[0;34m()\u001b[0m\n\u001b[1;32m      2\u001b[0m \u001b[0;31m# define x, y, and y_noisy\u001b[0m\u001b[0;34m\u001b[0m\u001b[0;34m\u001b[0m\u001b[0;34m\u001b[0m\u001b[0m\n\u001b[1;32m      3\u001b[0m \u001b[0;34m\u001b[0m\u001b[0m\n\u001b[0;32m----> 4\u001b[0;31m \u001b[0mplt\u001b[0m\u001b[0;34m.\u001b[0m\u001b[0mplot\u001b[0m\u001b[0;34m(\u001b[0m\u001b[0mx\u001b[0m\u001b[0;34m,\u001b[0m \u001b[0my_noisy\u001b[0m\u001b[0;34m,\u001b[0m \u001b[0;34m'o'\u001b[0m\u001b[0;34m)\u001b[0m\u001b[0;34m\u001b[0m\u001b[0;34m\u001b[0m\u001b[0m\n\u001b[0m",
            "\u001b[0;31mNameError\u001b[0m: name 'y_noisy' is not defined"
          ]
        }
      ]
    },
    {
      "cell_type": "markdown",
      "metadata": {
        "id": "w9oJfYIRP0E5"
      },
      "source": [
        "Now, find the least squares coefficients asssuming our hypothesis is that $y = w_0 + w_1 x + \\epsilon$. Verify that the coefficients make sense given our current problem setup."
      ]
    },
    {
      "cell_type": "code",
      "metadata": {
        "id": "Px2xI3WxknP_"
      },
      "source": [
        "# YOUR CODE HERE\n"
      ],
      "execution_count": null,
      "outputs": []
    },
    {
      "cell_type": "markdown",
      "metadata": {
        "id": "Z4i16xOA3xOD"
      },
      "source": [
        "Your friend that has not studied statistics believes you should add some more polynomial features to try and decrease the MSE of the model.\n",
        "\n",
        "Create a feature matrix up to $x^2$ and find the least squares solution with the new features. What do you notice about the coefficient for $x^2$? What do you conclude to your friend? What do you think will happen if you add $x^4, x^5$, etc?"
      ]
    },
    {
      "cell_type": "code",
      "metadata": {
        "id": "onHUNlPO4U2R"
      },
      "source": [
        "# YOUR CODE HERE\n"
      ],
      "execution_count": null,
      "outputs": []
    },
    {
      "cell_type": "markdown",
      "metadata": {
        "id": "izYxwv7Q5ZQF"
      },
      "source": [
        "#### \"Linear\" Classification for a Conic Section"
      ]
    },
    {
      "cell_type": "markdown",
      "metadata": {
        "id": "cDjT4jqB8q4w"
      },
      "source": [
        "We have built some basic linear models for linear and quadratic data. Sometimes, instead of predicting the output $y$ directly, we may have binary \"labels\" attached to $y$ indicating whether a certain condition has been met or not. Run the cell below to see the data in tabular form."
      ]
    },
    {
      "cell_type": "code",
      "metadata": {
        "colab": {
          "base_uri": "https://localhost:8080/",
          "height": 402
        },
        "id": "dQ4KgnYK9aMy",
        "outputId": "723e9190-1ce2-4ced-9b31-33343288e0bf"
      },
      "source": [
        "# generating 1's\n",
        "r = 2\n",
        "theta = np.random.uniform(0, 2*np.pi, 100)\n",
        "x_1 = r * np.cos(theta) + np.random.normal(0, 0.1, 100)\n",
        "y_1 = r * np.sin(theta) + np.random.normal(0, 0.1, 100)\n",
        "# generating 0's\n",
        "x_0 = np.append(np.linspace(-r-2, -r, 100), np.linspace(r, r+2, 100))\n",
        "y_0 = 0.1*x_0**2 + 1 + np.random.normal(0, 1.5, 200)\n",
        "# appending everything\n",
        "x_all = np.append(x_1, x_0)\n",
        "y_all = np.append(y_1, y_0)\n",
        "labels_all = np.append(np.ones(100), np.zeros(200))\n",
        "dat = pd.DataFrame({'x':x_all, 'y':y_all, 'label': labels_all}).sample(frac = 1)\n",
        "dat.reset_index(drop=True, inplace=True)\n",
        "dat"
      ],
      "execution_count": null,
      "outputs": [
        {
          "output_type": "execute_result",
          "data": {
            "text/html": [
              "<div>\n",
              "<style scoped>\n",
              "    .dataframe tbody tr th:only-of-type {\n",
              "        vertical-align: middle;\n",
              "    }\n",
              "\n",
              "    .dataframe tbody tr th {\n",
              "        vertical-align: top;\n",
              "    }\n",
              "\n",
              "    .dataframe thead th {\n",
              "        text-align: right;\n",
              "    }\n",
              "</style>\n",
              "<table border=\"1\" class=\"dataframe\">\n",
              "  <thead>\n",
              "    <tr style=\"text-align: right;\">\n",
              "      <th></th>\n",
              "      <th>x</th>\n",
              "      <th>y</th>\n",
              "      <th>label</th>\n",
              "    </tr>\n",
              "  </thead>\n",
              "  <tbody>\n",
              "    <tr>\n",
              "      <th>0</th>\n",
              "      <td>3.212121</td>\n",
              "      <td>1.888750</td>\n",
              "      <td>0.0</td>\n",
              "    </tr>\n",
              "    <tr>\n",
              "      <th>1</th>\n",
              "      <td>2.525253</td>\n",
              "      <td>2.956348</td>\n",
              "      <td>0.0</td>\n",
              "    </tr>\n",
              "    <tr>\n",
              "      <th>2</th>\n",
              "      <td>-3.434343</td>\n",
              "      <td>0.753958</td>\n",
              "      <td>0.0</td>\n",
              "    </tr>\n",
              "    <tr>\n",
              "      <th>3</th>\n",
              "      <td>-1.263836</td>\n",
              "      <td>-1.284176</td>\n",
              "      <td>1.0</td>\n",
              "    </tr>\n",
              "    <tr>\n",
              "      <th>4</th>\n",
              "      <td>0.035781</td>\n",
              "      <td>2.155233</td>\n",
              "      <td>1.0</td>\n",
              "    </tr>\n",
              "    <tr>\n",
              "      <th>...</th>\n",
              "      <td>...</td>\n",
              "      <td>...</td>\n",
              "      <td>...</td>\n",
              "    </tr>\n",
              "    <tr>\n",
              "      <th>295</th>\n",
              "      <td>3.333333</td>\n",
              "      <td>2.166438</td>\n",
              "      <td>0.0</td>\n",
              "    </tr>\n",
              "    <tr>\n",
              "      <th>296</th>\n",
              "      <td>2.343434</td>\n",
              "      <td>-0.116341</td>\n",
              "      <td>0.0</td>\n",
              "    </tr>\n",
              "    <tr>\n",
              "      <th>297</th>\n",
              "      <td>-3.717172</td>\n",
              "      <td>2.943265</td>\n",
              "      <td>0.0</td>\n",
              "    </tr>\n",
              "    <tr>\n",
              "      <th>298</th>\n",
              "      <td>-3.111111</td>\n",
              "      <td>3.458143</td>\n",
              "      <td>0.0</td>\n",
              "    </tr>\n",
              "    <tr>\n",
              "      <th>299</th>\n",
              "      <td>-3.555556</td>\n",
              "      <td>-0.768924</td>\n",
              "      <td>0.0</td>\n",
              "    </tr>\n",
              "  </tbody>\n",
              "</table>\n",
              "<p>300 rows × 3 columns</p>\n",
              "</div>"
            ],
            "text/plain": [
              "            x         y  label\n",
              "0    3.212121  1.888750    0.0\n",
              "1    2.525253  2.956348    0.0\n",
              "2   -3.434343  0.753958    0.0\n",
              "3   -1.263836 -1.284176    1.0\n",
              "4    0.035781  2.155233    1.0\n",
              "..        ...       ...    ...\n",
              "295  3.333333  2.166438    0.0\n",
              "296  2.343434 -0.116341    0.0\n",
              "297 -3.717172  2.943265    0.0\n",
              "298 -3.111111  3.458143    0.0\n",
              "299 -3.555556 -0.768924    0.0\n",
              "\n",
              "[300 rows x 3 columns]"
            ]
          },
          "metadata": {
            "tags": []
          },
          "execution_count": 16
        }
      ]
    },
    {
      "cell_type": "markdown",
      "metadata": {
        "id": "8_GUytJD9UWg"
      },
      "source": [
        "Now, visualize the $(x,y)$ coordinates of the above dataset. $\\verb|x_0, y_0|$ are $x, y$ values for label 0 and $\\verb|x_1, y_1|$ are the $x,y$ values for label 1."
      ]
    },
    {
      "cell_type": "code",
      "metadata": {
        "colab": {
          "base_uri": "https://localhost:8080/",
          "height": 282
        },
        "id": "viAn9al18lz-",
        "outputId": "991dc2b4-bce9-4e7d-fb11-6f9883b41524"
      },
      "source": [
        "plt.plot(x_0, y_0, 'o', color = 'red')\n",
        "plt.plot(x_1, y_1, 'o', color = 'blue')"
      ],
      "execution_count": null,
      "outputs": [
        {
          "output_type": "execute_result",
          "data": {
            "text/plain": [
              "[<matplotlib.lines.Line2D at 0x7fb6b9b2e630>]"
            ]
          },
          "metadata": {
            "tags": []
          },
          "execution_count": 17
        },
        {
          "output_type": "display_data",
          "data": {
            "image/png": "[encoded data removed]",
            "text/plain": [
              "<Figure size 432x288 with 1 Axes>"
            ]
          },
          "metadata": {
            "tags": [],
            "needs_background": "light"
          }
        }
      ]
    },
    {
      "cell_type": "markdown",
      "metadata": {
        "id": "zs3e6eqCaI3x"
      },
      "source": [
        "What shape does the blue data (label 1) look like? Do you see a clear separation?\n",
        "\n",
        "Based on the shape of the data, construct a feature matrix that seems reasonable. What parameters will we be estimating? Recall the equations for certain conic sections to help formulate the matrix."
      ]
    },
    {
      "cell_type": "code",
      "metadata": {
        "id": "OX6vBzozaOnP"
      },
      "source": [
        "# YOUR CODE HERE"
      ],
      "execution_count": null,
      "outputs": []
    },
    {
      "cell_type": "code",
      "metadata": {
        "id": "rz8c1dHnu6q7"
      },
      "source": [
        ""
      ],
      "execution_count": null,
      "outputs": []
    }
  ]
}