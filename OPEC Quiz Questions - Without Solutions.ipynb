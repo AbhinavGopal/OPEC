{
 "cells": [
  {
   "cell_type": "code",
   "execution_count": 1,
   "metadata": {},
   "outputs": [],
   "source": [
    "import numpy as np\n",
    "%matplotlib inline\n",
    "import matplotlib.pyplot as plt"
   ]
  },
  {
   "cell_type": "markdown",
   "metadata": {},
   "source": [
    "### For all questions below, you may use any functions from the assignment notebook."
   ]
  },
  {
   "cell_type": "markdown",
   "metadata": {},
   "source": [
    "#### 1) Generate a vector $x$ that takes on uniformly random values in the interval $[-4, 4]$. Generate a vector $y$ that is any quadratic function of $x$ (you choose!) and add normally distributed noise onto $y$. Assume $\\epsilon \\sim N(0, 4a)$ where $a$ is the coefficient of the linear component $x$ of the quadratic function. Plot your results."
   ]
  },
  {
   "cell_type": "code",
   "execution_count": 3,
   "metadata": {},
   "outputs": [],
   "source": [
    "# YOUR CODE HERE\n",
    "# hint: use np.random.uniform\n",
    "plt.plot(x, y, 'o')"
   ]
  },
  {
   "cell_type": "markdown",
   "metadata": {},
   "source": [
    "#### 2) Using the generated data in the previous part, find the least squares solution with the hypothesis that our data $y$ is generated from some cubic function $y = w_0 + w_1 x + w_2 x^2 + w_3 x^3$. Recall that the least squares solution when we have a feature matrix $X$ and output data $y$ is $\\hat{w} = (X^T X) ^{-1} X^T y$. Report the coefficients and the MSE. What do you notice about the coefficients, especially the coefficient for $x^3$?"
   ]
  },
  {
   "cell_type": "code",
   "execution_count": 28,
   "metadata": {},
   "outputs": [],
   "source": [
    "# YOUR CODE HERE\n"
   ]
  },
  {
   "cell_type": "markdown",
   "metadata": {},
   "source": [
    "#### 3) Repeat the above exercise with a featurization for $x^4$, keeping all previous polynomial features. Does the MSE increase or decrease? Looking at how the true data was generated, why is this potentially deceiving?"
   ]
  },
  {
   "cell_type": "code",
   "execution_count": 32,
   "metadata": {},
   "outputs": [],
   "source": [
    "# YOUR CODE HERE\n"
   ]
  },
  {
   "cell_type": "markdown",
   "metadata": {},
   "source": [
    "#### 4) Find $A^{100} x$, where $A$ and $x$ are fixed and provided for you. The catch: you are not allowed to compute the matrix power by doing $A^{100} = A*A*A ... *A$. Below the code cell, explain your alternate solution and then print the value. Verify that your solution matches the actual value $A^{100} x$ (your kernel won't crash, don't worry). You may use any NumPy functions."
   ]
  },
  {
   "cell_type": "code",
   "execution_count": 2,
   "metadata": {},
   "outputs": [],
   "source": [
    "# compute A^100 (x) without doing A ** 100 and print the value\n",
    "# verify it matches A^100 (x)\n",
    "A = np.array([2, 0, 0, 1, 2, 1, -1, 0, 1]).reshape(3,3)\n",
    "x = np.array([0, -1, 1])\n",
    "\n",
    "# YOUR CODE HERE\n"
   ]
  },
  {
   "cell_type": "markdown",
   "metadata": {},
   "source": [
    "#### 5) Use $\\verb|np.einsum|$ to compute $AB$ for the A and B provided below."
   ]
  },
  {
   "cell_type": "code",
   "execution_count": 3,
   "metadata": {},
   "outputs": [],
   "source": [
    "# compute AB with np.einsum\n",
    "A = np.array([2,3,5,4,2,-3]).reshape(3,2)\n",
    "B = np.array(range(1, 20, 2)).reshape(2, 5)\n",
    "\n",
    "# YOUR CODE HERE\n"
   ]
  },
  {
   "cell_type": "markdown",
   "metadata": {},
   "source": [
    "#### 6) Use $\\verb|np.einsum|$ to define a new function $\\verb|LstSqLong(X, y)|$ that takes in the same arguments as  $\\verb|LstSq|$ but only uses $\\verb|np.einsum|$. You may still use the function $\\verb|np.linalg.inv|$. Then run the code provided to ensure your function works with basic linear data."
   ]
  },
  {
   "cell_type": "code",
   "execution_count": 20,
   "metadata": {},
   "outputs": [],
   "source": [
    "# write LstSqLong\n",
    "\n",
    "def LstSqLong(X,y):\n",
    "    assert X.shape[0] == len(y)\n",
    "    # YOUR CODE HERE\n",
    "    \n",
    "plt.plot(x, y, 'o', 'blue')\n",
    "plt.plot(x, y_preds, 'o', 'red')"
   ]
  },
  {
   "cell_type": "markdown",
   "metadata": {},
   "source": [
    "#### 7) Compute $A^{10}$ for the matrix $A$ given below. As before, you are not allowed to do this with $A^{10} = A*A*A...*A$."
   ]
  },
  {
   "cell_type": "code",
   "execution_count": 5,
   "metadata": {},
   "outputs": [],
   "source": [
    "A = np.array([0.3, 4, 6, 1, 0, 1, 0.8, 2, 0, 0, 1, 0.5, 0, 0, 0, 2]).reshape(4,4)\n",
    "# YOUR CODE HERE\n"
   ]
  },
  {
   "cell_type": "markdown",
   "metadata": {},
   "source": [
    "#### 8) As you commute to work, you count how many green and red lights you hit. You also record the total time it takes to commute to work, and repeat this for two days. The data is provided below (there are 25 signals, you take the same route). Formulate the problem as a least squares question and solve for the relevant coefficients. Please state the meaning of the coefficients in the context of this problem, and print the coefficients. Additionally, in a real world setting, what would be the random noise in this problem?"
   ]
  },
  {
   "cell_type": "code",
   "execution_count": 4,
   "metadata": {},
   "outputs": [],
   "source": [
    "green = np.array([20, 2])\n",
    "red = np.array([5, 23])\n",
    "commute_times = np.array([20, 43])\n",
    "# YOUR CODE HERE\n"
   ]
  },
  {
   "cell_type": "markdown",
   "metadata": {},
   "source": [
    "#### 9) Invert the following matrix using NumPy."
   ]
  },
  {
   "cell_type": "code",
   "execution_count": 37,
   "metadata": {},
   "outputs": [],
   "source": [
    "A = np.array([1, 0, 0, 3, 0, 5, 2, 4, 9]).reshape(3,3)\n",
    "# YOUR CODE HERE\n"
   ]
  },
  {
   "cell_type": "markdown",
   "metadata": {},
   "source": [
    "#### 10) Using the vector $x$ provided below, create 10 featurized matrices for each $d$ from $d = 1$ to $d = 10$. Then calculate the least squares coefficients, predicted values, and MSE for each featurization. Record the MSEs in the list $\\verb|MSEs|$. Plot the MSE for all 10 featurizations and note down your observations."
   ]
  },
  {
   "cell_type": "code",
   "execution_count": null,
   "metadata": {},
   "outputs": [],
   "source": [
    "x = np.linspace(-5, 5, 100)\n",
    "y = 0.2 * x**2 + 0.3*x + 0.2 + np.random.normal(0, 0.1, 100)\n",
    "MSEs = []\n",
    "degrees = range(1,11)\n",
    "# YOUR CODE HERE\n",
    "\n",
    "plt.plot(degrees, MSEs, 'o')"
   ]
  },
  {
   "cell_type": "code",
   "execution_count": null,
   "metadata": {},
   "outputs": [],
   "source": []
  }
 ],
 "metadata": {
  "kernelspec": {
   "display_name": "Python 3",
   "language": "python",
   "name": "python3"
  },
  "language_info": {
   "codemirror_mode": {
    "name": "ipython",
    "version": 3
   },
   "file_extension": ".py",
   "mimetype": "text/x-python",
   "name": "python",
   "nbconvert_exporter": "python",
   "pygments_lexer": "ipython3",
   "version": "3.8.6"
  }
 },
 "nbformat": 4,
 "nbformat_minor": 4
}
